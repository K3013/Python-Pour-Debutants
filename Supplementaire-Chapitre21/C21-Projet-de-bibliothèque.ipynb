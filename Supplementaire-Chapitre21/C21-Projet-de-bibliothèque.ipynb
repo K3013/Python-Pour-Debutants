{
  "nbformat": 4,
  "nbformat_minor": 0,
  "metadata": {
    "colab": {
      "provenance": []
    },
    "kernelspec": {
      "name": "python3",
      "display_name": "Python 3"
    },
    "language_info": {
      "name": "python"
    }
  },
  "cells": [
    {
      "cell_type": "markdown",
      "source": [
        "**Projet de bibliothèque**"
      ],
      "metadata": {
        "id": "pYYdU9PYvqYt"
      }
    },
    {
      "cell_type": "code",
      "execution_count": null,
      "metadata": {
        "id": "kZeTXqJ7vT0p"
      },
      "outputs": [],
      "source": [
        "import random\n",
        "\n",
        "def montrerLesLivres():\n",
        "  for livre in livres:\n",
        "    print(\"Nom : \"+livre[\"nom\"]+\" - Quantité : \"+str(livre[\"quantite\"]))\n",
        "\n",
        "def ajouterLivre(): \n",
        "  nom = input(\"Saisissez le nom : \")\n",
        "  quantite = int(input(\"Saisissez la quantité : \"))\n",
        "  nouveauLivre = {\"nom\":nom, \"quantite\":quantite}\n",
        "  livres.append(nouveauLivre)\n",
        "\n",
        "def effacerLivre():\n",
        "  index = int(input(\"Saisissez l'index à supprimer : \"))\n",
        "  if(index >= 0 and index < len(livres)):\n",
        "    livres.pop(index)\n",
        "\n",
        "def afficherLivresDispo():\n",
        "  for livre in livres:\n",
        "    if(livre[\"quantite\"] > 0):\n",
        "      print(\"Nom : \"+livre[\"nom\"]+\" - Quantité : \"+str(livre[\"quantite\"]))\n",
        "\n",
        "def nombreLivresDispo():\n",
        "  compteur = 0\n",
        "  for livre in livres:\n",
        "    if(livre[\"quantite\"] > 0):\n",
        "      compteur = compteur+1\n",
        "  print(\"Nombre de livres disponibles : \"+str(compteur))\n",
        "\n",
        "def aficherLivresPourInitialLettre():\n",
        "  lettre = input(\"Saisissez le initial letter : \")\n",
        "  for livre in livres:\n",
        "    if(livre[\"nom\"][0].lower() == lettre.lower()):\n",
        "      print(\"Nom : \"+livre[\"nom\"]+\" - Quantité : \"+str(livre[\"quantite\"]))\n",
        "\n",
        "def suggererLivreAleatoire():\n",
        "  nombreAleatoire = random.randint(0, len(livres)-1)\n",
        "  livreAleatoire = livres[nombreAleatoire]\n",
        "  print(\"Nom : \"+ livreAleatoire[\"nom\"]+\" - Quantité : \"+str(livreAleatoire[\"quantite\"]))\n",
        "\n",
        "livre1 = {\"nom\":\"Dune\", \"quantite\":0}\n",
        "livre2 = {\"nom\":\"Interstellar\", \"quantite\":4}\n",
        "livre3 = {\"nom\":\"Tron\", \"quantite\":5}\n",
        "livres = [livre1, livre2, livre3]\n",
        "\n",
        "while(True):\n",
        "  print(\"----Saisissez----\")\n",
        "  print(\"1) Pour montrer les livres\")\n",
        "  print(\"2) Pour ajouter une Livre\")\n",
        "  print(\"3) Pour supprimer une livre\")\n",
        "  print(\"4) Pour afficher les livres disponibles\")\n",
        "  print(\"5) Pour afficher le nombre de livres disponibles\")\n",
        "  print(\"6) Pour afficher les livres avec une lettre initial en commun\")\n",
        "  print(\"7) Pour suggérer un livre aléatoire\")\n",
        "  print(\"0) Pour sortir\")\n",
        "  option = int(input())\n",
        "  if(option == 1):\n",
        "    montrerLesLivres()\n",
        "  elif(option == 2):\n",
        "    ajouterLivre()\n",
        "  elif(option == 3):\n",
        "    effacerLivre()\n",
        "  elif(option == 4):\n",
        "    afficherLivresDispo()\n",
        "  elif(option == 5):\n",
        "    nombreLivresDispo()\n",
        "  elif(option == 6):\n",
        "    aficherLivresPourInitialLettre()\n",
        "  elif(option == 7):\n",
        "    suggererLivreAleatoire()\n",
        "  elif(option == 0):\n",
        "    print(\"Profitez de l'aventure !!\")\n",
        "    break"
      ]
    }
  ]
}