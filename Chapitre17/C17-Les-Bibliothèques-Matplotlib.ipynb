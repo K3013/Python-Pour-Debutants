{
  "nbformat": 4,
  "nbformat_minor": 0,
  "metadata": {
    "colab": {
      "provenance": []
    },
    "kernelspec": {
      "name": "python3",
      "display_name": "Python 3"
    },
    "language_info": {
      "name": "python"
    }
  },
  "cells": [
    {
      "cell_type": "markdown",
      "source": [
        "**Le module math**"
      ],
      "metadata": {
        "id": "Fmk5x2VMmHXA"
      }
    },
    {
      "cell_type": "code",
      "execution_count": null,
      "metadata": {
        "id": "L6E4xq6hl6EK"
      },
      "outputs": [],
      "source": [
        "import math\n",
        "\n",
        "print(math.sqrt(16))\n",
        "print(math.fabs(-8))"
      ]
    },
    {
      "cell_type": "markdown",
      "source": [
        "**Le module random**"
      ],
      "metadata": {
        "id": "2RrescCMmJzm"
      }
    },
    {
      "cell_type": "code",
      "source": [
        "import random\n",
        "\n",
        "nombreAleatoire = random.randint(1, 10)\n",
        "print(nombreAleatoire)\n",
        "\n",
        "candidats = [\"Elena Rybakina\", \"Nathan Chen\", \"Tobi Amusan\", \"Mondo Duplantis\"]\n",
        "print(random.choice(candidats))"
      ],
      "metadata": {
        "id": "wLvN6vubmLGn"
      },
      "execution_count": null,
      "outputs": []
    },
    {
      "cell_type": "markdown",
      "source": [
        "**La Fonction plot de PyPlot**"
      ],
      "metadata": {
        "id": "gjEiOcM5mOVP"
      }
    },
    {
      "cell_type": "code",
      "source": [
        "import matplotlib.pyplot as plt\n",
        "\n",
        "# x represents the years\n",
        "x = [2012, 2013, 2014, 2015, 2016, 2017]\n",
        "# y represents the amount of money saved\n",
        "y = [0, 50, 70, 70, 100, 246]\n",
        "\n",
        "plt.plot(x, y)\n",
        "plt.xlabel(\"Year\")\n",
        "plt.ylabel(\"Savings (USD)\")\n",
        "plt.show()"
      ],
      "metadata": {
        "id": "WpWO2LQPmPDP"
      },
      "execution_count": null,
      "outputs": []
    },
    {
      "cell_type": "markdown",
      "source": [
        "**La Fonction bar de PyPlot**"
      ],
      "metadata": {
        "id": "Wp4jkEyqmRsP"
      }
    },
    {
      "cell_type": "code",
      "source": [
        "import matplotlib.pyplot as plt\n",
        "\n",
        "# x : représente les années\n",
        "x = [2017, 2018, 2019, 2020, 2021]\n",
        "# y : représente le nombre de tremblements de terre\n",
        "y = [1566, 1808, 1637, 1433, 2206]\n",
        "\n",
        "plt.bar(x, y)\n",
        "plt.xlabel(\"Ans\")\n",
        "plt.ylabel(\"Tremblements de terre\")\n",
        "plt.show()"
      ],
      "metadata": {
        "id": "aUVCcHtrmTNW"
      },
      "execution_count": null,
      "outputs": []
    }
  ]
}