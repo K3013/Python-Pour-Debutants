{
  "nbformat": 4,
  "nbformat_minor": 0,
  "metadata": {
    "colab": {
      "provenance": []
    },
    "kernelspec": {
      "name": "python3",
      "display_name": "Python 3"
    },
    "language_info": {
      "name": "python"
    }
  },
  "cells": [
    {
      "cell_type": "markdown",
      "source": [
        "**Programmation de notre première boucle for**"
      ],
      "metadata": {
        "id": "emvEDEMFJsAf"
      }
    },
    {
      "cell_type": "code",
      "execution_count": null,
      "metadata": {
        "id": "ziDehUEbJiK-"
      },
      "outputs": [],
      "source": [
        "ages = [25, 7, 39]\n",
        "\n",
        "for age in ages:\n",
        "  print(age)\n",
        "\n",
        "print(\"Fin de l'exécution\")"
      ]
    },
    {
      "cell_type": "markdown",
      "source": [
        "**La boucle de for avec des chaînes de caractères**"
      ],
      "metadata": {
        "id": "Ow7N2MrlJvZL"
      }
    },
    {
      "cell_type": "code",
      "source": [
        "message = \"ASE SoHO\"\n",
        "\n",
        "for caractere in message:\n",
        "  print(caractere)"
      ],
      "metadata": {
        "id": "uT0Lg5BYJv_j"
      },
      "execution_count": null,
      "outputs": []
    },
    {
      "cell_type": "markdown",
      "source": [
        "**La boucle for avec des dictionnaires**"
      ],
      "metadata": {
        "id": "DfghW9sdJzHb"
      }
    },
    {
      "cell_type": "code",
      "source": [
        "cycliste = {\"prenom\":\"Egan\", \"nom\":\"Bernal\", \"equipe\":\"Ineos\"}\n",
        "\n",
        "for cle in cycliste:\n",
        "  print(cle+\" : \"+cycliste[cle])"
      ],
      "metadata": {
        "id": "_FprdlDkJz9D"
      },
      "execution_count": null,
      "outputs": []
    },
    {
      "cell_type": "markdown",
      "source": [
        "**La boucle for avec des listes contenant des dictionnaires**"
      ],
      "metadata": {
        "id": "FQzZEFfFJ2Pd"
      }
    },
    {
      "cell_type": "code",
      "source": [
        "discotheque1 = {\"nom\":\"Badaboum\", \"lieu\":\"Paris\"}\n",
        "discotheque2 = {\"nom\":\"DC10\", \"lieu\":\"Ibiza\"}\n",
        "\n",
        "discotheques = [discotheque1, discotheque2]\n",
        "\n",
        "for discotheque in discotheques:\n",
        "  print(discotheque[\"nom\"]+\" - \"+discotheque[\"lieu\"])"
      ],
      "metadata": {
        "id": "QrNX3kXGJ287"
      },
      "execution_count": null,
      "outputs": []
    },
    {
      "cell_type": "markdown",
      "source": [
        "**La fonction range**"
      ],
      "metadata": {
        "id": "3xS4OtSPJ6S7"
      }
    },
    {
      "cell_type": "code",
      "source": [
        "nombres = [1, 2, 3, 4, 5]\n",
        "\n",
        "for nombre in nombres:\n",
        "  print(nombre)"
      ],
      "metadata": {
        "id": "wI7vtpmMJ6xz"
      },
      "execution_count": null,
      "outputs": []
    },
    {
      "cell_type": "markdown",
      "source": [
        "**La fonction range avec un seul argument**"
      ],
      "metadata": {
        "id": "AGeJaM4VJ-R7"
      }
    },
    {
      "cell_type": "code",
      "source": [
        "for nombre in range(6):\n",
        "  print(nombre)"
      ],
      "metadata": {
        "id": "LOdBiUIiJ-9z"
      },
      "execution_count": null,
      "outputs": []
    },
    {
      "cell_type": "markdown",
      "source": [
        "**La fonction range avec plusieurs arguments**"
      ],
      "metadata": {
        "id": "Kjoky8GeKBRD"
      }
    },
    {
      "cell_type": "code",
      "source": [
        "for nombre in range(1, 7, 2):\n",
        "  print(nombre)"
      ],
      "metadata": {
        "id": "aXZU91z8KB2T"
      },
      "execution_count": null,
      "outputs": []
    },
    {
      "cell_type": "markdown",
      "source": [
        "**Exercice E13.1.**"
      ],
      "metadata": {
        "id": "XnmNgXRsKEzj"
      }
    },
    {
      "cell_type": "code",
      "source": [
        "fin = int(input())\n",
        "for nombre in range(fin):\n",
        "  print(\"Manu Chao\")"
      ],
      "metadata": {
        "id": "q3ZgTUBIKGGT"
      },
      "execution_count": null,
      "outputs": []
    },
    {
      "cell_type": "markdown",
      "source": [
        "**Exercice E13.3.**"
      ],
      "metadata": {
        "id": "HcQWhiFwKIHE"
      }
    },
    {
      "cell_type": "code",
      "source": [
        "listeDesCourses = [\"Le pain\", \"Les oeufs \", \"Le lait\"]\n",
        "for article in listeDesCourses:\n",
        "  print(article)"
      ],
      "metadata": {
        "id": "fFbXTfL0KJjj"
      },
      "execution_count": null,
      "outputs": []
    }
  ]
}