{
  "nbformat": 4,
  "nbformat_minor": 0,
  "metadata": {
    "colab": {
      "provenance": []
    },
    "kernelspec": {
      "name": "python3",
      "display_name": "Python 3"
    },
    "language_info": {
      "name": "python"
    }
  },
  "cells": [
    {
      "cell_type": "markdown",
      "source": [
        "**Notre premier code - Bonjour le monde**"
      ],
      "metadata": {
        "id": "witmy_shHs9a"
      }
    },
    {
      "cell_type": "code",
      "execution_count": null,
      "metadata": {
        "id": "0Qy4R2AgHWWy"
      },
      "outputs": [],
      "source": [
        "print(\"Bonjour le monde\")"
      ]
    },
    {
      "cell_type": "markdown",
      "source": [
        "**Multiple Bonjour le monde**"
      ],
      "metadata": {
        "id": "5wG6urmyHyOJ"
      }
    },
    {
      "cell_type": "code",
      "source": [
        "print(\"Bonjour le monde\")\n",
        "print(\"Bonjour le monde\")\n",
        "print(\"Bonjour le monde\")"
      ],
      "metadata": {
        "id": "To4Kzv5-HynB"
      },
      "execution_count": null,
      "outputs": []
    },
    {
      "cell_type": "markdown",
      "source": [
        "**Version de Python**"
      ],
      "metadata": {
        "id": "GCzPiN-CH14Z"
      }
    },
    {
      "cell_type": "code",
      "source": [
        "!python --version"
      ],
      "metadata": {
        "id": "ZR4ll-KyH2PR"
      },
      "execution_count": null,
      "outputs": []
    }
  ]
}