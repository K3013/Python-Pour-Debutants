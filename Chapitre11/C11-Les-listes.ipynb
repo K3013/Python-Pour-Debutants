{
  "nbformat": 4,
  "nbformat_minor": 0,
  "metadata": {
    "colab": {
      "provenance": []
    },
    "kernelspec": {
      "name": "python3",
      "display_name": "Python 3"
    },
    "language_info": {
      "name": "python"
    }
  },
  "cells": [
    {
      "cell_type": "markdown",
      "source": [
        "**La création de listes**"
      ],
      "metadata": {
        "id": "v26KegKW2ir6"
      }
    },
    {
      "cell_type": "code",
      "execution_count": null,
      "metadata": {
        "id": "rmo1xNAz2QhZ"
      },
      "outputs": [],
      "source": [
        "ages = [28, 67, 40, 15]"
      ]
    },
    {
      "cell_type": "code",
      "source": [
        "noms = [\"Monet\", \"Eiffel\", \"Bardot\"]\n",
        "print(noms)\n",
        "print(type(noms))"
      ],
      "metadata": {
        "id": "PGdSxG2i2ox6"
      },
      "execution_count": null,
      "outputs": []
    },
    {
      "cell_type": "markdown",
      "source": [
        "**Les listes qui stockent différents types de données**"
      ],
      "metadata": {
        "id": "KTupcHJP2myr"
      }
    },
    {
      "cell_type": "code",
      "source": [
        "mesDonnees = [\"René Descartes\", 37, \"rdescartes54@institut.edu.co\", 174.2]\n",
        "print(mesDonnees)"
      ],
      "metadata": {
        "id": "9xvXvJhZ2mOj"
      },
      "execution_count": null,
      "outputs": []
    },
    {
      "cell_type": "markdown",
      "source": [
        "**Les propriétés des listes**"
      ],
      "metadata": {
        "id": "5mhnMDM82y_D"
      }
    },
    {
      "cell_type": "code",
      "source": [
        "noms = [\"Sartre\", \"Camus\", \"Cousteau\"]"
      ],
      "metadata": {
        "id": "p9ZPdBXJ20Hz"
      },
      "execution_count": null,
      "outputs": []
    },
    {
      "cell_type": "markdown",
      "source": [
        "**La représentation graphique des listes en mémoire**"
      ],
      "metadata": {
        "id": "vZkJfZit2353"
      }
    },
    {
      "cell_type": "code",
      "source": [
        "mesDonnees = [\"Louise\", 36, 163.9]"
      ],
      "metadata": {
        "id": "Bf9sbmqf24os"
      },
      "execution_count": null,
      "outputs": []
    },
    {
      "cell_type": "markdown",
      "source": [
        "**Les valeurs et les références**"
      ],
      "metadata": {
        "id": "fo6lYNHV28br"
      }
    },
    {
      "cell_type": "code",
      "source": [
        "age = 21\n",
        "loisirs = [\"Escalade\"]"
      ],
      "metadata": {
        "id": "-VUmv6rQ29D8"
      },
      "execution_count": null,
      "outputs": []
    },
    {
      "cell_type": "markdown",
      "source": [
        "**L'accès aux éléments d'une liste**"
      ],
      "metadata": {
        "id": "wkOT1yzK2_nz"
      }
    },
    {
      "cell_type": "code",
      "source": [
        "rappeurs = [\"Arsenik\", \"Booba\", \"Soprano\", \"Rohff\"]\n",
        "rappeur1 = rappeurs[0]\n",
        "\n",
        "print(len(rappeurs))\n",
        "print(rappeur1)\n",
        "print(rappeurs[2])\n",
        "print(rappeurs[len(rappeurs)-1])"
      ],
      "metadata": {
        "id": "XSSYaEUX3AO7"
      },
      "execution_count": null,
      "outputs": []
    },
    {
      "cell_type": "markdown",
      "source": [
        "**L'accès aux éléments d'une liste (erreur)**"
      ],
      "metadata": {
        "id": "kOmBJPdx3B-0"
      }
    },
    {
      "cell_type": "code",
      "source": [
        "films = [\"La cité des enfants perdus\", \"The intouchables\", \"La vie d'Adèle\", \"La Haine\"]\n",
        "film6 = films[6]\n",
        "print(film6)"
      ],
      "metadata": {
        "id": "RLw-CdsA3GI9"
      },
      "execution_count": null,
      "outputs": []
    },
    {
      "cell_type": "markdown",
      "source": [
        "**La modification des éléments d'une liste**"
      ],
      "metadata": {
        "id": "lAoNC23n3I-Y"
      }
    },
    {
      "cell_type": "code",
      "source": [
        "voitures = [\"Tesla Roadster\", \"Lotus Evija\", \"Porsche Taycan\"]\n",
        "print(voitures[0])\n",
        "\n",
        "voitures[0] = \"Nio EP9\"\n",
        "print(voitures[0])"
      ],
      "metadata": {
        "id": "Ykvu9PW83K46"
      },
      "execution_count": null,
      "outputs": []
    },
    {
      "cell_type": "markdown",
      "source": [
        "**Ajouter des éléments à une liste**"
      ],
      "metadata": {
        "id": "LlhKsh7c3Mnz"
      }
    },
    {
      "cell_type": "code",
      "source": [
        "extraterrestres = []\n",
        "extraterrestres.append(\"E.T.\")\n",
        "extraterrestres.append(\"Sangoku\")\n",
        "extraterrestres.append(\"Marvin le martien\")\n",
        "extraterrestres.append(\"Grand Gazou\")\n",
        "print(extraterrestres[3])"
      ],
      "metadata": {
        "id": "txGxtGZ63NYs"
      },
      "execution_count": null,
      "outputs": []
    },
    {
      "cell_type": "markdown",
      "source": [
        "**Éliminer des éléments d'une liste**"
      ],
      "metadata": {
        "id": "uElZ7ybw3QbD"
      }
    },
    {
      "cell_type": "code",
      "source": [
        "extraterrestres = [\"Maître Yoda\", \"Predator\", \"Leeloo\", \"Na'vi \", \"Aayla Secura\"]\n",
        "print(extraterrestres[1])\n",
        "extraterrestres.pop(1)\n",
        "print(extraterrestres[1])"
      ],
      "metadata": {
        "id": "1x7T8FLq3RE7"
      },
      "execution_count": null,
      "outputs": []
    },
    {
      "cell_type": "markdown",
      "source": [
        "**Les boucles avec listes**"
      ],
      "metadata": {
        "id": "2fd_Lc6b3TzL"
      }
    },
    {
      "cell_type": "code",
      "source": [
        "peuples = [\"Célestien\", \"Gerudo\", \"Goron\", \"Hylien\"]\n",
        "\n",
        "i = 0\n",
        "while(i < len(peuples)):\n",
        "  print(peuples[i])\n",
        "  i = i+1"
      ],
      "metadata": {
        "id": "zLSQfiiR3Vb8"
      },
      "execution_count": null,
      "outputs": []
    },
    {
      "cell_type": "markdown",
      "source": [
        "**Exercice E11.1.**"
      ],
      "metadata": {
        "id": "b415ulKY3X40"
      }
    },
    {
      "cell_type": "code",
      "source": [
        "epees = [\"Masamune\", \"Monado\", \"Frostmourne\"]\n",
        "print(len(epees))\n",
        "print(epees[1])"
      ],
      "metadata": {
        "id": "hGdrqG_I3Zu7"
      },
      "execution_count": null,
      "outputs": []
    },
    {
      "cell_type": "markdown",
      "source": [
        "**Exercice E11.3.**"
      ],
      "metadata": {
        "id": "5ts3fhmg3Z3b"
      }
    },
    {
      "cell_type": "code",
      "source": [
        "epees = [\"Masamune\", \"Monado\", \"Frostmourne\"]\n",
        "print(epees[len(epees)])"
      ],
      "metadata": {
        "id": "fszNSPDk3bDu"
      },
      "execution_count": null,
      "outputs": []
    },
    {
      "cell_type": "markdown",
      "source": [
        "**Exercice E11.5.**"
      ],
      "metadata": {
        "id": "1Jau-SeF3bJr"
      }
    },
    {
      "cell_type": "code",
      "source": [
        "messageSecret = [\"Le\",\"Planète\",\"Truc\",\"Secret\",\"est\",\"a\",\"un\",\"Alien\",\"Zombie\",\"Radioactiv\"]"
      ],
      "metadata": {
        "id": "BB37CNg83fTj"
      },
      "execution_count": null,
      "outputs": []
    }
  ]
}