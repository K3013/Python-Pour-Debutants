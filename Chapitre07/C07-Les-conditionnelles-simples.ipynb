{
  "nbformat": 4,
  "nbformat_minor": 0,
  "metadata": {
    "colab": {
      "provenance": []
    },
    "kernelspec": {
      "name": "python3",
      "display_name": "Python 3"
    },
    "language_info": {
      "name": "python"
    }
  },
  "cells": [
    {
      "cell_type": "markdown",
      "source": [
        "**Calculons la surface du carré**"
      ],
      "metadata": {
        "id": "dJjLBnsAsTIt"
      }
    },
    {
      "cell_type": "code",
      "execution_count": null,
      "metadata": {
        "id": "TBhYKUmisQG_"
      },
      "outputs": [],
      "source": [
        "cote = float(input(\"Saisissez la longueur du côté du carré : \"))\n",
        "aire= cote*cote\n",
        "print(\"La surface du carré est : \"+str(aire))"
      ]
    },
    {
      "cell_type": "markdown",
      "source": [
        "**Les variables booléennes**"
      ],
      "metadata": {
        "id": "Up4H-ZqOsXXd"
      }
    },
    {
      "cell_type": "code",
      "source": [
        "aimeDesCrepes = True\n",
        "print(type(aimeDesCrepes))\n",
        "print(aimeDesCrepes)"
      ],
      "metadata": {
        "id": "ZN5HIICIsX5d"
      },
      "execution_count": null,
      "outputs": []
    },
    {
      "cell_type": "markdown",
      "source": [
        "**Exemple de code pour la structure if-then**"
      ],
      "metadata": {
        "id": "2v6AgykIsd4Y"
      }
    },
    {
      "cell_type": "code",
      "source": [
        "temperature = float(input(\"Saisissez la température : \"))\n",
        "\n",
        "if(temperature > 27):\n",
        "  print(\"Achetez une glace\")\n",
        "\n",
        "print(\"Fin de l'exécution\")"
      ],
      "metadata": {
        "id": "yULSHPwcseed"
      },
      "execution_count": null,
      "outputs": []
    },
    {
      "cell_type": "markdown",
      "source": [
        "**Acheter une crème brûlée (erreur)**"
      ],
      "metadata": {
        "id": "M8A1tZcnsiZ9"
      }
    },
    {
      "cell_type": "code",
      "source": [
        "temperature = float(input(\"Saisissez la température : \"))\n",
        "\n",
        "if(temperature > 27):\n",
        "  print(\"Achetez une glace\")\n",
        "print(\"Achetez une crème brûlée\")\n",
        "\n",
        "print(\"Fin de l'exécution\")"
      ],
      "metadata": {
        "id": "eridfgxVskPc"
      },
      "execution_count": null,
      "outputs": []
    },
    {
      "cell_type": "markdown",
      "source": [
        "**Acheter une crème brûlée (correct)**"
      ],
      "metadata": {
        "id": "VujmpcNnsrvV"
      }
    },
    {
      "cell_type": "code",
      "source": [
        "temperature = float(input(\"Saisissez la température : \"))\n",
        "\n",
        "if(temperature > 27):\n",
        "  print(\"Achetez une glace\")\n",
        "  print(\"Achetez une crème brûlée\")\n",
        "\n",
        "print(\"Fin de l'exécution\")"
      ],
      "metadata": {
        "id": "i6k02nTustks"
      },
      "execution_count": null,
      "outputs": []
    },
    {
      "cell_type": "markdown",
      "source": [
        "**Flux d'exécution**"
      ],
      "metadata": {
        "id": "maZ1MPD5sxIV"
      }
    },
    {
      "cell_type": "code",
      "source": [
        "temperature = float(input(\"Saisissez la température : \"))\n",
        "argent = float(input(\"Saisissez montant de l'argent liquide : \"))\n",
        "\n",
        "if(temperature > 27) and (argent >= 5):\n",
        "  print(\"Achetez une glace\")\n",
        "\n",
        "print(\"Fin de l'exécution\")"
      ],
      "metadata": {
        "id": "fE5hP6Ltsx0V"
      },
      "execution_count": null,
      "outputs": []
    },
    {
      "cell_type": "markdown",
      "source": [
        "**Exercice E7.1.**"
      ],
      "metadata": {
        "id": "Tefh-P9ws0_G"
      }
    },
    {
      "cell_type": "code",
      "source": [
        "billets = 1450.7\n",
        "if(billets > 5):\n",
        "  print(\"Vous et vos amis pouvez participer\")\n",
        "print(\"Fin de l'exécution\")"
      ],
      "metadata": {
        "id": "alHv3xZHs2T9"
      },
      "execution_count": null,
      "outputs": []
    }
  ]
}