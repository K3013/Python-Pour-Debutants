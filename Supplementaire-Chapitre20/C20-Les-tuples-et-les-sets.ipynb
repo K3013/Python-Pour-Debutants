{
  "nbformat": 4,
  "nbformat_minor": 0,
  "metadata": {
    "colab": {
      "provenance": []
    },
    "kernelspec": {
      "name": "python3",
      "display_name": "Python 3"
    },
    "language_info": {
      "name": "python"
    }
  },
  "cells": [
    {
      "cell_type": "markdown",
      "source": [
        "**La création d'une tuple**"
      ],
      "metadata": {
        "id": "72LEits-jSWy"
      }
    },
    {
      "cell_type": "code",
      "execution_count": null,
      "metadata": {
        "id": "AsKFMUjci49a"
      },
      "outputs": [],
      "source": [
        "ages = (28, 67, 40, 15)"
      ]
    },
    {
      "cell_type": "code",
      "source": [
        "couleurs = (\"Jaune\", \"Blue\", \"Rouge\")\n",
        "print(couleurs)\n",
        "print(type(couleurs))"
      ],
      "metadata": {
        "id": "KJLTbAKgjWRZ"
      },
      "execution_count": null,
      "outputs": []
    },
    {
      "cell_type": "markdown",
      "source": [
        "**L'accès aux éléments d'une tuple**"
      ],
      "metadata": {
        "id": "4gIbIRQujZ44"
      }
    },
    {
      "cell_type": "code",
      "source": [
        "footballeurs = (\"Cristiano\", \"Messi\", \"Lewandowski\", \"Mbappé\")\n",
        "print(footballeurs[0])\n",
        "print(players[len(footballeurs)-1])"
      ],
      "metadata": {
        "id": "ZwfmcXRnjajY"
      },
      "execution_count": null,
      "outputs": []
    },
    {
      "cell_type": "markdown",
      "source": [
        "**Opération non valide**"
      ],
      "metadata": {
        "id": "FsF7fJmRjswf"
      }
    },
    {
      "cell_type": "code",
      "source": [
        "footballeurs = (\"Cristiano\", \"Messi\", \"Lewandowski\", \"Mbappé\")\n",
        "footballeurs[0] = \"Haaland\""
      ],
      "metadata": {
        "id": "Bep5yyy8jtZP"
      },
      "execution_count": null,
      "outputs": []
    },
    {
      "cell_type": "markdown",
      "source": [
        "**La création d'un set**"
      ],
      "metadata": {
        "id": "nEYuHF8Ijxov"
      }
    },
    {
      "cell_type": "code",
      "source": [
        "ages = {28, 67, 40, 15}"
      ],
      "metadata": {
        "id": "dMrukzxZjySg"
      },
      "execution_count": null,
      "outputs": []
    },
    {
      "cell_type": "code",
      "source": [
        "planets = {\"Earth\", \"Mars\", \"Uranus\", \"Uranus\"}\n",
        "print(planets)\n",
        "print(type(planets))"
      ],
      "metadata": {
        "id": "5OP4QWoVj1iJ"
      },
      "execution_count": null,
      "outputs": []
    },
    {
      "cell_type": "markdown",
      "source": [
        "**Accéder aux éléments d'un set (erreur)**"
      ],
      "metadata": {
        "id": "rGd94AR2j56H"
      }
    },
    {
      "cell_type": "code",
      "source": [
        "planetes = {\"Terre\", \"Mars\", \"Uranus\", \"Uranus\"}\n",
        "print(planetes[0])"
      ],
      "metadata": {
        "id": "ruecZbdhj7iY"
      },
      "execution_count": null,
      "outputs": []
    },
    {
      "cell_type": "markdown",
      "source": [
        "**Accéder aux éléments d'un set**"
      ],
      "metadata": {
        "id": "5Dpp9vSQj-W_"
      }
    },
    {
      "cell_type": "code",
      "source": [
        "planetes = {\"Terre\", \"Mars\", \"Uranus\"} \n",
        "for planete in planetes:\n",
        "  print(planete)"
      ],
      "metadata": {
        "id": "ylmIcpxQkAr5"
      },
      "execution_count": null,
      "outputs": []
    },
    {
      "cell_type": "markdown",
      "source": [
        "**Ajouter des éléments à un set**"
      ],
      "metadata": {
        "id": "YbeT2Xb5kCwg"
      }
    },
    {
      "cell_type": "code",
      "source": [
        "planetes = {\"Terre\", \"Mars\", \"Uranus\"}\n",
        "planetes.add(\"Jupiter\")\n",
        "print(planetes)"
      ],
      "metadata": {
        "id": "ByOFZRIikDX3"
      },
      "execution_count": null,
      "outputs": []
    },
    {
      "cell_type": "markdown",
      "source": [
        "**Supprimer des éléments d'un set**"
      ],
      "metadata": {
        "id": "BqgBs2qXkFde"
      }
    },
    {
      "cell_type": "code",
      "source": [
        "planetes = {\"Terre\", \"Mars\", \"Uranus\"}\n",
        "planetes.remove(\"Terre\")\n",
        "print(planetes)"
      ],
      "metadata": {
        "id": "xRmNqrdQkGMm"
      },
      "execution_count": null,
      "outputs": []
    }
  ]
}