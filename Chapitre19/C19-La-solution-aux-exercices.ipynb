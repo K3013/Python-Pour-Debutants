{
  "nbformat": 4,
  "nbformat_minor": 0,
  "metadata": {
    "colab": {
      "provenance": []
    },
    "kernelspec": {
      "name": "python3",
      "display_name": "Python 3"
    },
    "language_info": {
      "name": "python"
    }
  },
  "cells": [
    {
      "cell_type": "markdown",
      "source": [
        "**E5.4.**"
      ],
      "metadata": {
        "id": "bPRt1YkCpSyu"
      }
    },
    {
      "cell_type": "code",
      "execution_count": null,
      "metadata": {
        "id": "KQiPtCslpBcf"
      },
      "outputs": [],
      "source": [
        "prenom = \"Angélica\"\n",
        "nom = \"Martinod\"\n",
        "age = 12\n",
        "taille = 148.2\n",
        "\n",
        "print(prenom)\n",
        "print(nom)\n",
        "print(age)\n",
        "print(taille)"
      ]
    },
    {
      "cell_type": "markdown",
      "source": [
        "**E6.4.**"
      ],
      "metadata": {
        "id": "j_P3ycKGpT9w"
      }
    },
    {
      "cell_type": "code",
      "source": [
        "prenom = input(\"Saisissez votre prénom : \")\n",
        "nom = input(\"Saisissez votre nom : \")\n",
        "age = int(input(\"Saisissez votre âge : \"))\n",
        "taille = float(input(\"Saisissez votre taille : \"))\n",
        "\n",
        "print(prenom)\n",
        "print(type(prenom))\n",
        "print(nom)\n",
        "print(type(nom))\n",
        "print(age)\n",
        "print(type(age))\n",
        "print(taille)\n",
        "print(type(taille))"
      ],
      "metadata": {
        "id": "fTEkDzxXpZep"
      },
      "execution_count": null,
      "outputs": []
    },
    {
      "cell_type": "markdown",
      "source": [
        "**E6.5.**"
      ],
      "metadata": {
        "id": "dZ_dcCiepZsR"
      }
    },
    {
      "cell_type": "code",
      "source": [
        "prenom = input(\"Saisissez votre prénom : \")\n",
        "nom = input(\"Saisissez votre nom : \")\n",
        "print(nom+\" \"+prenom)"
      ],
      "metadata": {
        "id": "DK4det3npe_p"
      },
      "execution_count": null,
      "outputs": []
    },
    {
      "cell_type": "markdown",
      "source": [
        "**E6.6.**"
      ],
      "metadata": {
        "id": "eznGRbkZpdUY"
      }
    },
    {
      "cell_type": "code",
      "source": [
        "anneesDePrediction = float(input(\"Saisissez la nombre d'années : \"))\n",
        "anneesreelles = anneesDePrediction /2\n",
        "print(\"L'astéroïde tombera dans: \"+str(anneesreelles)+\" ans\")"
      ],
      "metadata": {
        "id": "5XPi4krWph0p"
      },
      "execution_count": null,
      "outputs": []
    },
    {
      "cell_type": "markdown",
      "source": [
        "**E7.4.**"
      ],
      "metadata": {
        "id": "xz38m5tmpdig"
      }
    },
    {
      "cell_type": "code",
      "source": [
        "distance = float(input(\"Saisissez la distance : \"))\n",
        "if(distance <= 4):\n",
        "  print(\"J'y arrive bientôt \")"
      ],
      "metadata": {
        "id": "NL2vWeU9pnaD"
      },
      "execution_count": null,
      "outputs": []
    },
    {
      "cell_type": "markdown",
      "source": [
        "**E7.5.**"
      ],
      "metadata": {
        "id": "WEoKCW8DpdtB"
      }
    },
    {
      "cell_type": "code",
      "source": [
        "numeroDeMaillot = int(input(\"Saisissez le numéro du maillot : \"))\n",
        "if(numeroDeMaillot == 19):\n",
        "  print(\"Qu'est-ce que vous regardez, bête\")"
      ],
      "metadata": {
        "id": "wcGG8wGtpo7y"
      },
      "execution_count": null,
      "outputs": []
    },
    {
      "cell_type": "markdown",
      "source": [
        "**E7.6.**"
      ],
      "metadata": {
        "id": "OFJLex75pd3Q"
      }
    },
    {
      "cell_type": "code",
      "source": [
        "magnitude = float(input(\"Saisissez la magnitude du tremblement de terre : \"))\n",
        "if(magnitude >= 5.2):\n",
        "  print(\"Alerte au tsunami !!\")"
      ],
      "metadata": {
        "id": "EHYFWeEYpsn4"
      },
      "execution_count": null,
      "outputs": []
    },
    {
      "cell_type": "markdown",
      "source": [
        "**E8.4.**"
      ],
      "metadata": {
        "id": "D33vM6WXpeAA"
      }
    },
    {
      "cell_type": "code",
      "source": [
        "genre = input(\"Saisissez votre genre musical préféré : \")\n",
        "if(genre == \"Rock\"):\n",
        "  print(\"Vous avez bon goût\")\n",
        "else:\n",
        "  print(\"C'est dégueulasse\") "
      ],
      "metadata": {
        "id": "hvMGypeVpxZh"
      },
      "execution_count": null,
      "outputs": []
    },
    {
      "cell_type": "markdown",
      "source": [
        "**E8.5.**"
      ],
      "metadata": {
        "id": "HCIcY1BVpvux"
      }
    },
    {
      "cell_type": "code",
      "source": [
        "nom1 = input(\"Saisissez le nom du premier élève :\")\n",
        "voix1 = int(input(\"Saisissez le décompte des voix pour le premier élève : \"))\n",
        "nom2 = input(\"Saisissez le nom du deuxième élève : \")\n",
        "voix2 = int(input(\"Saisissez le décompte des voix pour le deuxième élève : \"))\n",
        "\n",
        "if(voix1 > voix2):\n",
        "  print(nom1)\n",
        "elif(voix2 > voix1):\n",
        "  print(nom2)\n",
        "else:\n",
        "  print(\"Ballottage\")"
      ],
      "metadata": {
        "id": "IHKwcI2Sp0vx"
      },
      "execution_count": null,
      "outputs": []
    },
    {
      "cell_type": "markdown",
      "source": [
        "**E9.4.**"
      ],
      "metadata": {
        "id": "Dq0wyRyrpv3Y"
      }
    },
    {
      "cell_type": "code",
      "source": [
        "fois = int(input(\"Saisissez un nombre : \"))\n",
        "i = 1\n",
        "while(i <= fois):\n",
        "  print(\"****\")\n",
        "  i = i+1"
      ],
      "metadata": {
        "id": "InsWd0DYp4Oh"
      },
      "execution_count": null,
      "outputs": []
    },
    {
      "cell_type": "markdown",
      "source": [
        "**E9.5.**"
      ],
      "metadata": {
        "id": "4d26Na-Lpv_p"
      }
    },
    {
      "cell_type": "code",
      "source": [
        "while(True):\n",
        "  motDePasse = input(\"Saisissez le mot de passe : \")\n",
        "  if(motDePasse == \"Zinedine Zidane\"):\n",
        "    print(\"Mot de passe correct\")\n",
        "    break\n",
        "  else:\n",
        "    print(\"Mot de passe incorrect\")"
      ],
      "metadata": {
        "id": "4UygnffGp7jy"
      },
      "execution_count": null,
      "outputs": []
    },
    {
      "cell_type": "markdown",
      "source": [
        "**E10.4.**"
      ],
      "metadata": {
        "id": "3ELZQCYCpwIo"
      }
    },
    {
      "cell_type": "code",
      "source": [
        "texte = input(\"Saisissez une texte : \")\n",
        "premierCaractere = texte[0]\n",
        "dernierCaractere = texet[len(texte)-1]\n",
        "print(premierCaractere + dernierCaracter)"
      ],
      "metadata": {
        "id": "UJkfy1qXp_xK"
      },
      "execution_count": null,
      "outputs": []
    },
    {
      "cell_type": "markdown",
      "source": [
        "**E10.5.**"
      ],
      "metadata": {
        "id": "8p7fsaHppwRI"
      }
    },
    {
      "cell_type": "code",
      "source": [
        "texte = input(\"Saisissez votre texte : \")\n",
        "indexTiret = text.find(\"-\")\n",
        "if(indexTiret == -1):\n",
        "  print(\"C'est bon ! Le texte ne contient pas le tiret\")\n",
        "else:\n",
        "  print(\"Attention ! Le texte contient le tiret\")"
      ],
      "metadata": {
        "id": "A-Of7lo1qDJJ"
      },
      "execution_count": null,
      "outputs": []
    },
    {
      "cell_type": "markdown",
      "source": [
        "**E10.6.**"
      ],
      "metadata": {
        "id": "NAFaL0X9pwZA"
      }
    },
    {
      "cell_type": "code",
      "source": [
        "mot = input(\"Saisissez votre mot : \")\n",
        "i = 0\n",
        "while(i < len(mot)):\n",
        "  if(mot[i] != \"a\" and mot[i] != \"e\" and mot[i] != \"i\" and mot[i] != \"o\" and mot[i] != \"u\"):\n",
        "    print(mot[i])\n",
        "  i = i+1"
      ],
      "metadata": {
        "id": "E8URjewpqE5B"
      },
      "execution_count": null,
      "outputs": []
    },
    {
      "cell_type": "markdown",
      "source": [
        "**E11.4.**"
      ],
      "metadata": {
        "id": "gL6_LhW4qGSI"
      }
    },
    {
      "cell_type": "code",
      "source": [
        "films = []\n",
        "i = 1\n",
        "while(i <= 4):\n",
        "  film = input(\"Saisissez le nom de un film préféré : \")\n",
        "  movies.append(films)\n",
        "  i = i+1\n",
        "\n",
        "print(films)"
      ],
      "metadata": {
        "id": "p-aTCh4dqJw6"
      },
      "execution_count": null,
      "outputs": []
    },
    {
      "cell_type": "markdown",
      "source": [
        "**E11.5.**"
      ],
      "metadata": {
        "id": "i9SE-9u5qIni"
      }
    },
    {
      "cell_type": "code",
      "source": [
        "messageSecret = [\"Le\",\"Planète\",\"Truc\",\"Secret\",\"est\",\"a\",\"un\",\"Alien\",\"Zombie\",\"Radioactiv\"]\n",
        "\n",
        "i = 0\n",
        "while(i < len(messageSecret)):\n",
        "  print(messageSecret[i])\n",
        "  i = i+2"
      ],
      "metadata": {
        "id": "KXjhFXd0qMwJ"
      },
      "execution_count": null,
      "outputs": []
    },
    {
      "cell_type": "markdown",
      "source": [
        "**E12.4.**"
      ],
      "metadata": {
        "id": "8BrXdQmqqIxR"
      }
    },
    {
      "cell_type": "code",
      "source": [
        "nom = input(\"Saisissez le nom de l'animal de compagnie : \")\n",
        "age = int(input(\"Saisissez l'âge de l'animal de compagnie : \"))\n",
        "sexe = input(\"Saisissez le sexe de l'animal de compagnie : \")\n",
        "\n",
        "animalDeCompagnie = {\n",
        "  \"nom\": nom,\n",
        "  \"age\": age,\n",
        "  \"sexe\": sexe\n",
        "}\n",
        "\n",
        "print(animalDeCompagnie)"
      ],
      "metadata": {
        "id": "R_0v2WLUqQI6"
      },
      "execution_count": null,
      "outputs": []
    },
    {
      "cell_type": "markdown",
      "source": [
        "**E12.5.**"
      ],
      "metadata": {
        "id": "nPo3UsWOqI6h"
      }
    },
    {
      "cell_type": "code",
      "source": [
        "nombreEquipes = int(input(\"Saisissez le nombre de équipes de foot : \"))\n",
        "equipes = []\n",
        "\n",
        "i = 1\n",
        "while(i <= nombreEquipes):\n",
        "  nom = input(\"Saisissez le nom d'un equipe : \")\n",
        "  pays = input(\"Saisissez le pays du equipe : \")\n",
        "  equipe = {\"nom\": nom, \"pays\": pays}\n",
        "  equipes.append(equipe)\n",
        "  i = i+1\n",
        "\n",
        "print(equipes)"
      ],
      "metadata": {
        "id": "NNodTs29qT92"
      },
      "execution_count": null,
      "outputs": []
    },
    {
      "cell_type": "markdown",
      "source": [
        "**E13.4.i.**"
      ],
      "metadata": {
        "id": "0Am34NLZqJCA"
      }
    },
    {
      "cell_type": "code",
      "source": [
        "for nombre in range(1,81):\n",
        "  print(nombre)"
      ],
      "metadata": {
        "id": "n7J3_2kcqbW5"
      },
      "execution_count": null,
      "outputs": []
    },
    {
      "cell_type": "markdown",
      "source": [
        "**E13.4.ii.**"
      ],
      "metadata": {
        "id": "NmI2zvQTqJJ8"
      }
    },
    {
      "cell_type": "code",
      "source": [
        "for nombre in range(1000,-1,-100):\n",
        "  print(nombre)"
      ],
      "metadata": {
        "id": "DlELhp9aqdQS"
      },
      "execution_count": null,
      "outputs": []
    },
    {
      "cell_type": "markdown",
      "source": [
        "**E13.4.iii.**"
      ],
      "metadata": {
        "id": "ObL07GFwqY8q"
      }
    },
    {
      "cell_type": "code",
      "source": [
        "for nombre in range(2,67,2):\n",
        "  print(nombre)"
      ],
      "metadata": {
        "id": "h_x21I3wqeby"
      },
      "execution_count": null,
      "outputs": []
    },
    {
      "cell_type": "markdown",
      "source": [
        "**E13.5.**"
      ],
      "metadata": {
        "id": "4l9Ngpaqqga5"
      }
    },
    {
      "cell_type": "code",
      "source": [
        "prenoms = []\n",
        "for nombre in range(4):\n",
        "  prenom = input(\"Saisissez un prénom : \")\n",
        "  prenoms.append(prenom)\n",
        "\n",
        "for prenom in prenoms:\n",
        "  if(prenom[0] == \"P\"):\n",
        "    print(\"Ne pas possible\")\n",
        "  else:\n",
        "    print(\"C'est bon candidat\")"
      ],
      "metadata": {
        "id": "JNvVEVJ2qjMi"
      },
      "execution_count": null,
      "outputs": []
    },
    {
      "cell_type": "markdown",
      "source": [
        "**E14.4.**"
      ],
      "metadata": {
        "id": "JKLudNgaqiJU"
      }
    },
    {
      "cell_type": "code",
      "source": [
        "def imprimePremierNom(noms):\n",
        "  print(noms[0])\n",
        "\n",
        "noms = [\"Zeus\", \"Poséidon\", \"Arès\"]\n",
        "imprimePremierNom(noms)"
      ],
      "metadata": {
        "id": "MwJ9RV7QqpBC"
      },
      "execution_count": null,
      "outputs": []
    },
    {
      "cell_type": "markdown",
      "source": [
        "**E14.5.**"
      ],
      "metadata": {
        "id": "rT1M394qqiSY"
      }
    },
    {
      "cell_type": "code",
      "source": [
        "def somme():\n",
        "  nombre1 = float(input(\"Saisissez le première nombre : \"))\n",
        "  nombre2 = float(input(\"Saisissez le second nombre : \"))\n",
        "  resultat = nombre1 + nombre2\n",
        "  print(\"Le résultat est : \"+str(resultat))\n",
        "\n",
        "def soustraire():\n",
        "  nombre1 = float(input(\"Saisissez le première nombre : \"))\n",
        "  nombre2 = float(input(\"Saisissez le second nombre : \"))\n",
        "  resultat = nombre1 - nombre2\n",
        "  print(\"Le résultat est : \"+str(resultat))\n",
        "\n",
        "def multiplication():\n",
        "  nombre1 = float(input(\"Saisissez le première nombre : \"))\n",
        "  nombre2 = float(input(\"Saisissez le second nombre : \"))\n",
        "  resultat = nombre1 * nombre2\n",
        "  print(\"Le résultat est : \"+str(resultat))\n",
        "\n",
        "def division():\n",
        "  nombre1 = float(input(\"Saisissez le première nombre : \"))\n",
        "  nombre2 = float(input(\"Saisissez le second nombre : \"))\n",
        "  if(nombre2 == 0):\n",
        "    print(\"Diviseur non valide\")\n",
        "  else:\n",
        "    resultat = nombre1 / nombre2\n",
        "    print(\"Le résultat est : \"+str(resultat))\n",
        "\n",
        "def carre():\n",
        "  nombre1 = float(input(\"Saisissez le nombre : \"))\n",
        "  resultat = nombre1 * nombre1\n",
        "  print(\"Le résultat est : \"+str(resultat)) \n",
        "\n",
        "while(True):\n",
        "  print(\"----Saisissez la opération ----\")\n",
        "  print(\"1) Sommer\")\n",
        "  print(\"2) Soustraire\")\n",
        "  print(\"3) Multiplication\")\n",
        "  print(\"4) Division\")\n",
        "  print(\"5) Carré\")\n",
        "  print(\"0) Sortir\")\n",
        "  operation = int(input())\n",
        "  if(operation == 1):\n",
        "    somme()\n",
        "  elif(operation == 2):\n",
        "    soustraire()\n",
        "  elif(operation == 3):\n",
        "    multiplication()\n",
        "  elif(operation == 4):\n",
        "    division()\n",
        "  elif(operation == 5):\n",
        "    carre()\n",
        "  elif(operation == 0):\n",
        "    print(\"À bientôt =)\")\n",
        "    break"
      ],
      "metadata": {
        "id": "CD7M32mjqryp"
      },
      "execution_count": null,
      "outputs": []
    },
    {
      "cell_type": "markdown",
      "source": [
        "**E15.3.**"
      ],
      "metadata": {
        "id": "SCXKgJ9uqiZQ"
      }
    },
    {
      "cell_type": "code",
      "source": [
        "a1 = {\"nom\":\"2022 HX1\", \"distance\":1547214}\n",
        "a2 = {\"nom\":\"2022 HA2\", \"distance\":2870734}\n",
        "a3 = {\"nom\":\"101955 Bennu\", \"distance\":20188350}\n",
        "asteroides = [a1, a2, a3]\n",
        "\n",
        "compterDeCollision = 0\n",
        "for asteroide in asteroides:\n",
        "  if(asteroide[\"distance\"] < 4660283):\n",
        "    compterDeCollision = compterDeCollision+1\n",
        "\n",
        "print(\"Nombre d'astéroïdes avec forte probabilité de collision :\"+str(compterDeCollision))"
      ],
      "metadata": {
        "id": "H2bi_FKgscaw"
      },
      "execution_count": null,
      "outputs": []
    },
    {
      "cell_type": "markdown",
      "source": [
        "**E15.4.**"
      ],
      "metadata": {
        "id": "WW2kTrsksbmY"
      }
    },
    {
      "cell_type": "code",
      "source": [
        "a1 = {\"nom\":\"2022 HX1\", \"distance\":1547214}\n",
        "a2 = {\"nom\":\"2022 HA2\", \"distance\":2870734}\n",
        "a3 = {\"nom\":\"101955 Bennu\", \"distance\":20188350}\n",
        "asteroides = [a1, a2, a3]\n",
        "\n",
        "accumulateur = 0\n",
        "for asteroide in asteroides:\n",
        "  accumulateur = accumulateur+asteroide[\"distance\"]\n",
        "\n",
        "distanceMoyenne = accumulateur /len(asteroides)\n",
        "print(\"La distance moyenne : \"+str(distanceMoyenne))"
      ],
      "metadata": {
        "id": "TLFrcpEcse8T"
      },
      "execution_count": null,
      "outputs": []
    },
    {
      "cell_type": "markdown",
      "source": [
        "**E16.3.i.**"
      ],
      "metadata": {
        "id": "UTUQR6r_sbwv"
      }
    },
    {
      "cell_type": "code",
      "source": [
        "fichier = open(\"chansons.csv\")\n",
        "contenu = fichier.readlines()\n",
        "\n",
        "i = 1\n",
        "while(i < len(contenu)):\n",
        "  ligne = contenu[i].strip()\n",
        "  donnéesChansons = ligne.split(\",\")\n",
        "  if(int(donnéesChansons[4]) == 2000):\n",
        "    print(donnéesChansons[1])\n",
        "  i = i+1"
      ],
      "metadata": {
        "id": "lnRs3gvqu_nO"
      },
      "execution_count": null,
      "outputs": []
    },
    {
      "cell_type": "markdown",
      "source": [
        "**E16.3.ii.**"
      ],
      "metadata": {
        "id": "lzZu_jDKsiwo"
      }
    },
    {
      "cell_type": "code",
      "source": [
        "fichier = open(\"chansons.csv\")\n",
        "contenu = fichier.readlines()\n",
        "\n",
        "i = 1\n",
        "while(i < len(contenu)):\n",
        "  ligne = contenu[i].strip()\n",
        "  donnéesChansons = ligne.split(\",\")\n",
        "  if(donnéesChansons[0] == \"Eminem\"):\n",
        "    print(donnéesChansons[1])\n",
        "  i = i+1"
      ],
      "metadata": {
        "id": "HZ_PigIFvD53"
      },
      "execution_count": null,
      "outputs": []
    },
    {
      "cell_type": "markdown",
      "source": [
        "**E16.3.iii.**"
      ],
      "metadata": {
        "id": "ECTpAKvrsp04"
      }
    },
    {
      "cell_type": "code",
      "source": [
        "fichier = open(\"chansons.csv\")\n",
        "contenu = fichier.readlines()\n",
        "\n",
        "i = 1\n",
        "while(i < len(contenu)):\n",
        "  ligne = contenu[i].strip()\n",
        "  donnéesChansons = ligne.split(\",\")\n",
        "  if(donnéesChansons[1][0] == \"D\"):\n",
        "    print(donnéesChansons[1])\n",
        "  i = i+1"
      ],
      "metadata": {
        "id": "9ociKOX7vHxP"
      },
      "execution_count": null,
      "outputs": []
    },
    {
      "cell_type": "markdown",
      "source": [
        "**E16.3.iv.**"
      ],
      "metadata": {
        "id": "qN3m64YNslug"
      }
    },
    {
      "cell_type": "code",
      "source": [
        "fichier = open(\"chansons.csv\")\n",
        "contenu = fichier.readlines()\n",
        "\n",
        "compteur = 0\n",
        "i = 1\n",
        "while(i < len(contenu)):\n",
        "  ligne = contenu[i].strip()\n",
        "  donnéesChansons = ligne.split(\",\")\n",
        "  if(int(donnéesChansons[2]) > 400000):\n",
        "    compteur = compteur+1\n",
        "  i = i+1\n",
        "\n",
        "print(compteur)"
      ],
      "metadata": {
        "id": "6Tl4M3tCvJvo"
      },
      "execution_count": null,
      "outputs": []
    },
    {
      "cell_type": "markdown",
      "source": [
        "**E16.3.v.**"
      ],
      "metadata": {
        "id": "hVhAFCrVsmnK"
      }
    },
    {
      "cell_type": "code",
      "source": [
        "fichier = open(\"chansons.csv\")\n",
        "contenu = fichier.readlines()\n",
        "\n",
        "accumulateur = 0\n",
        "i = 1\n",
        "while(i < len(contenu)):\n",
        "  ligne = contenu[i].strip()\n",
        "  donnéesChansons = ligne.split(\",\")\n",
        "  accumulateur = accumulateur+int(donnéesChansons[5])\n",
        "  i = i+1\n",
        "\n",
        "moyenne = accumulateur/(len(contenu)-1) # moins un car l'en-tête des colonnes\n",
        "print(moyenne)"
      ],
      "metadata": {
        "id": "6LIHyXnRvONm"
      },
      "execution_count": null,
      "outputs": []
    },
    {
      "cell_type": "markdown",
      "source": [
        "**E17.4.**"
      ],
      "metadata": {
        "id": "fTP2R2aBsb25"
      }
    },
    {
      "cell_type": "code",
      "source": [
        "import matplotlib.pyplot as plt\n",
        "\n",
        "x = [2046, 2047, 2048, 2049, 2050]\n",
        "y = [0, 1, 8, 14, 2]\n",
        "\n",
        "plt.bar(x, y)\n",
        "plt.xlabel(\"Ans\")\n",
        "plt.ylabel(\"Millions de Zombies\")\n",
        "plt.show()"
      ],
      "metadata": {
        "id": "vfAaAkk_vhUF"
      },
      "execution_count": null,
      "outputs": []
    }
  ]
}