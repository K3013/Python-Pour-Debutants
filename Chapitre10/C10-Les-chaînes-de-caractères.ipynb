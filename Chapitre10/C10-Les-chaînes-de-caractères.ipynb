{
  "nbformat": 4,
  "nbformat_minor": 0,
  "metadata": {
    "colab": {
      "provenance": []
    },
    "kernelspec": {
      "name": "python3",
      "display_name": "Python 3"
    },
    "language_info": {
      "name": "python"
    }
  },
  "cells": [
    {
      "cell_type": "markdown",
      "source": [
        "**Les variables str**"
      ],
      "metadata": {
        "id": "9pE3fI9U1EiU"
      }
    },
    {
      "cell_type": "code",
      "execution_count": null,
      "metadata": {
        "id": "RU-WRy3R0wBF"
      },
      "outputs": [],
      "source": [
        "prenom = \"Johnny\"\n",
        "nom = 'Hallyday'\n",
        "nomComplet = prenom + \" \" + nom\n",
        "\n",
        "print(nomComplet)\n",
        "print(\"80 ans\")\n",
        "print(type(nomComplet))"
      ]
    },
    {
      "cell_type": "markdown",
      "source": [
        "**Propriétés des chaînes de caractères**"
      ],
      "metadata": {
        "id": "Tt0Dkm1F1InN"
      }
    },
    {
      "cell_type": "code",
      "source": [
        "message = \"Ça va bien !\""
      ],
      "metadata": {
        "id": "aGcBSdnS1JvE"
      },
      "execution_count": null,
      "outputs": []
    },
    {
      "cell_type": "markdown",
      "source": [
        "**Obtenir la longueur d'une chaîne de caractères**"
      ],
      "metadata": {
        "id": "gpnxizkY1MZs"
      }
    },
    {
      "cell_type": "code",
      "source": [
        "message = \"Ça va bien !\"\n",
        "\n",
        "len1 = len(message)\n",
        "len2 = len(\"Québec\")\n",
        "\n",
        "print(len1)\n",
        "print(len2)"
      ],
      "metadata": {
        "id": "LM15ubIr1M8t"
      },
      "execution_count": null,
      "outputs": []
    },
    {
      "cell_type": "markdown",
      "source": [
        "**L'extraction d'un caractère**"
      ],
      "metadata": {
        "id": "sGRivAGe1QeW"
      }
    },
    {
      "cell_type": "code",
      "source": [
        "message = \"Ça va bien !\"\n",
        "caractere0 = message[0]\n",
        "caractere4 = message[4]\n",
        "dernierCaractere = message[len(message)-1]\n",
        "\n",
        "print(caractere0)\n",
        "print(caractere4)\n",
        "print(dernierCaractere)"
      ],
      "metadata": {
        "id": "DB4TEg2Q1RK1"
      },
      "execution_count": null,
      "outputs": []
    },
    {
      "cell_type": "markdown",
      "source": [
        "**L'extraction d'un caractère (erreur)**"
      ],
      "metadata": {
        "id": "SVv5L0xJ1UL9"
      }
    },
    {
      "cell_type": "code",
      "source": [
        "marque = \"Aston Martin\"\n",
        "caractere12 = marque[12]\n",
        "print(caractere12)"
      ],
      "metadata": {
        "id": "cc-qsv7y1VL9"
      },
      "execution_count": null,
      "outputs": []
    },
    {
      "cell_type": "markdown",
      "source": [
        "**Extraction d'une sous-chaîne**"
      ],
      "metadata": {
        "id": "IESMxSFk1Was"
      }
    },
    {
      "cell_type": "code",
      "source": [
        "texte = \"Prix : 250\"\n",
        "sousTexte1 = texte[0:6]\n",
        "sousTexte2 = texte[7:10]\n",
        "\n",
        "print(sousTexte1)\n",
        "print(sousTexte2)"
      ],
      "metadata": {
        "id": "a4UMP8n51YNt"
      },
      "execution_count": null,
      "outputs": []
    },
    {
      "cell_type": "markdown",
      "source": [
        "**Recherche d'un caractère ou d'une sous-chaîne dans un str**"
      ],
      "metadata": {
        "id": "LDZHoVmf1c-N"
      }
    },
    {
      "cell_type": "code",
      "source": [
        "message = \"Ça va bien !\"\n",
        "indexV = message.find(\"v\")\n",
        "indexBien = message.find(\"bien\")\n",
        "indexZ = message.find(\"Z\")\n",
        "\n",
        "print(indexV)\n",
        "print(indexBien)\n",
        "print(indexZ)"
      ],
      "metadata": {
        "id": "dH6aQRA31dsk"
      },
      "execution_count": null,
      "outputs": []
    },
    {
      "cell_type": "markdown",
      "source": [
        "**Différence entre une fonction et une méthode**"
      ],
      "metadata": {
        "id": "UCb8sWsZ1mzV"
      }
    },
    {
      "cell_type": "code",
      "source": [
        "message = \"Ça va bien !\"\n",
        "indexA = message.find(\"a\")\n",
        "print(indexA)\n",
        "\n",
        "age = 28\n",
        "index8 = age.find(8)"
      ],
      "metadata": {
        "id": "vdyAtQVd1p0e"
      },
      "execution_count": null,
      "outputs": []
    },
    {
      "cell_type": "markdown",
      "source": [
        "**Recherche d'un caractère ou d'une sous-chaîne à partir d'un index de départ**"
      ],
      "metadata": {
        "id": "fbX0UUpR1lVl"
      }
    },
    {
      "cell_type": "code",
      "source": [
        "produit = \"Laser-100-20\"\n",
        "indexTiret1 = produit.find(\"-\")\n",
        "indexTiret2 = produit.find(\"-\", indexTiret1+1)\n",
        "sousTexteQuantite = produit[indexTiret2+1:len(produit)]\n",
        "\n",
        "print(indexTiret1)\n",
        "print(indexTiret2)\n",
        "print(sousTexteQuantite)"
      ],
      "metadata": {
        "id": "c3mV-vQp1rbM"
      },
      "execution_count": null,
      "outputs": []
    },
    {
      "cell_type": "markdown",
      "source": [
        "**Des autres méthodes**"
      ],
      "metadata": {
        "id": "CIUuP55_1txs"
      }
    },
    {
      "cell_type": "code",
      "source": [
        "message = \"Région: Bretagne\"\n",
        "\n",
        "messageMinuscule = message.lower()   # renvoie la chaîne de caractères en minuscules\n",
        "print(messageMinuscule)\n",
        "\n",
        "messageMajuscule = message.upper()   # renvoie la chaîne de caractères en majuscules\n",
        "print(messageMajuscule)\n",
        "\n",
        "countA = message.count(\"a\")   # renvoie le nombre de fois où \"a\" apparaît\n",
        "print(countA)\n",
        "\n",
        "nouveauMessage = message.replace(\"a\", \"x\")   # renvoie la chaîne en remplaçant \"a\" par \"x\"\n",
        "print(nouveauMessage)"
      ],
      "metadata": {
        "id": "tkKFJFcB1w80"
      },
      "execution_count": null,
      "outputs": []
    },
    {
      "cell_type": "markdown",
      "source": [
        "**Les boucles avec des chaînes de caractères**"
      ],
      "metadata": {
        "id": "pHiUSpSv101s"
      }
    },
    {
      "cell_type": "code",
      "source": [
        "mot = input(\"Saisissez un mot : \")\n",
        "\n",
        "i = 0\n",
        "while(i < len(mot)):\n",
        "  print(mot[i])\n",
        "  i = i+1"
      ],
      "metadata": {
        "id": "m54hqfqV11ZE"
      },
      "execution_count": null,
      "outputs": []
    },
    {
      "cell_type": "markdown",
      "source": [
        "**Exercice E10.1.**"
      ],
      "metadata": {
        "id": "VG4BzruJ15sE"
      }
    },
    {
      "cell_type": "code",
      "source": [
        "texte = \"Normandie\"\n",
        "print(texte[0])\n",
        "print(texte[0:3])\n",
        "indexN = texte.find(\"n\")\n",
        "print(indexN)"
      ],
      "metadata": {
        "id": "rb_aCshJ16Xs"
      },
      "execution_count": null,
      "outputs": []
    },
    {
      "cell_type": "markdown",
      "source": [
        "**Exercice E10.3.**"
      ],
      "metadata": {
        "id": "pZsG2aUD16c9"
      }
    },
    {
      "cell_type": "code",
      "source": [
        "mot = input()\n",
        "print(mot[len(mot)-1])"
      ],
      "metadata": {
        "id": "Dl-DNqB017Yu"
      },
      "execution_count": null,
      "outputs": []
    },
    {
      "cell_type": "markdown",
      "source": [
        "**Exercice E10.6.**"
      ],
      "metadata": {
        "id": "Cg8iuBi517eW"
      }
    },
    {
      "cell_type": "code",
      "source": [
        "\n",
        "\n",
        "\n",
        "  if(mot[i] != \"a\" and mot[i] != \"e\" and mot[i] != \"i\" and mot[i] != \"o\" and mot[i] != \"u\"):\n",
        "    print(mot[i])\n"
      ],
      "metadata": {
        "id": "mLd2vBM-18LF"
      },
      "execution_count": null,
      "outputs": []
    }
  ]
}