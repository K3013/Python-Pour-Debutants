{
  "nbformat": 4,
  "nbformat_minor": 0,
  "metadata": {
    "colab": {
      "provenance": []
    },
    "kernelspec": {
      "name": "python3",
      "display_name": "Python 3"
    },
    "language_info": {
      "name": "python"
    }
  },
  "cells": [
    {
      "cell_type": "markdown",
      "source": [
        "**Les compteurs avec listes**"
      ],
      "metadata": {
        "id": "TkYYrGIY4tl1"
      }
    },
    {
      "cell_type": "code",
      "execution_count": null,
      "metadata": {
        "id": "09_75nZb4YMQ"
      },
      "outputs": [],
      "source": [
        "ages = [34, 50, 28, 20, 44]\n",
        "\n",
        "compteurPlus30 = 0\n",
        "i = 0\n",
        "while(i < len(ages)):\n",
        "  if(ages[i] > 30):\n",
        "    compteurPlus30 = compteurPlus30+1\n",
        "  i = i+1\n",
        "\n",
        "print(\"Total de personnes qui dépasse 30 ans : \"+str(compteurPlus30))"
      ]
    },
    {
      "cell_type": "markdown",
      "source": [
        "**Les Compteurs avec listes contenant des dictionnaires**"
      ],
      "metadata": {
        "id": "q0yzBMro4xKU"
      }
    },
    {
      "cell_type": "code",
      "source": [
        "ville1 = {\"nom\":\"Envigado\", \"population\":249800}\n",
        "ville2 = {\"nom\":\"Sabaneta\", \"population\":87981}\n",
        "ville3 = {\"nom\":\"Rionegro\", \"population\":147484}\n",
        "\n",
        "villes = [ville1, ville2, ville3]\n",
        "compteur = 0\n",
        "\n",
        "for ville in villes:\n",
        "  if(ville[\"population\"] > 90000):\n",
        "    compteur = compteur+1\n",
        "\n",
        "print(\"Quantite de villes dont la population dépasse 90000 : \" + str(compteur))"
      ],
      "metadata": {
        "id": "fI2hy8JX4xyU"
      },
      "execution_count": null,
      "outputs": []
    },
    {
      "cell_type": "markdown",
      "source": [
        "**Les accumulateurs avec des listes**"
      ],
      "metadata": {
        "id": "LmqdMiIk40XT"
      }
    },
    {
      "cell_type": "code",
      "source": [
        "salaires = [3000, 1500, 800]\n",
        "\n",
        "accumulateurSalaire = 0\n",
        "i = 0\n",
        "while(i < len(salaires)):\n",
        "  accumulateurSalaire = accumulateurSalaire + salaires[i]\n",
        "  i = i+1\n",
        "\n",
        "print(\"Montant total des salaires : \"+str(accumulateurSalaire))"
      ],
      "metadata": {
        "id": "qboKpxw041zS"
      },
      "execution_count": null,
      "outputs": []
    },
    {
      "cell_type": "markdown",
      "source": [
        "**Les accumulateurs avec listes contenant des dictionnaires**"
      ],
      "metadata": {
        "id": "9ziZnfNQ45Iz"
      }
    },
    {
      "cell_type": "code",
      "source": [
        "ville1 = {\"nom\":\"Envigado\", \"population\":249800}\n",
        "ville2 = {\"nom\":\"Sabaneta\", \"population\":87981}\n",
        "ville3 = {\"nom\":\"Rionegro\", \"population\":147484}\n",
        "\n",
        "villes = [ville1, ville2, ville3]\n",
        "accumulateur = 0\n",
        "\n",
        "for ville in villes:\n",
        "  accumulateur = accumulateur + ville[\"population\"]\n",
        "\n",
        "moyenne = accumulateur/len(villes)\n",
        "print(\"Population moyenne : \"+str(moyenne))"
      ],
      "metadata": {
        "id": "L1GAesvN414T"
      },
      "execution_count": null,
      "outputs": []
    },
    {
      "cell_type": "markdown",
      "source": [
        "**Les drapeaux**"
      ],
      "metadata": {
        "id": "IDlAArKC4-N0"
      }
    },
    {
      "cell_type": "code",
      "source": [
        "notes = [4.0, 2.0, 1.2, 4.7, 1.7]\n",
        "drapeauxNoteSuperieure = False\n",
        "\n",
        "for note in notes:\n",
        "  if(note > 4.5):\n",
        "    drapeauxNoteSuperieure = True\n",
        "    break\n",
        "\n",
        "if(drapeauxNoteSuperieure):\n",
        "  print(\"Vous avez obtenu au moins une mention très bien\")\n",
        "else:\n",
        "  print(\"Vous avez obtenu au moins une mention très bien\")"
      ],
      "metadata": {
        "id": "-4aRhHE94-vE"
      },
      "execution_count": null,
      "outputs": []
    },
    {
      "cell_type": "markdown",
      "source": [
        "**Exercice E15.2.**"
      ],
      "metadata": {
        "id": "Ize3I9Qt5BkF"
      }
    },
    {
      "cell_type": "code",
      "source": [
        "ages = [20, 10, 29]\n",
        "\n",
        "for age in ages:\n",
        "  if(age < 15):\n",
        "    break\n",
        "  print(age)"
      ],
      "metadata": {
        "id": "CSeJ7ynN5DZE"
      },
      "execution_count": null,
      "outputs": []
    },
    {
      "cell_type": "markdown",
      "source": [
        "**Exercice E15.3.**"
      ],
      "metadata": {
        "id": "5dk4DN5o5Dd7"
      }
    },
    {
      "cell_type": "code",
      "source": [
        "a1 = {\"nom\":\"2022 HX1\", \"distance\":1547214}\n",
        "a2 = {\"nom\":\"2022 HA2\", \"distance\":2870734}\n",
        "a3 = {\"nom\":\"101955 Bennu\", \"distance\":20188350}\n",
        "asteroides = [a1, a2, a3]"
      ],
      "metadata": {
        "id": "eieFWEPi5HFU"
      },
      "execution_count": null,
      "outputs": []
    }
  ]
}