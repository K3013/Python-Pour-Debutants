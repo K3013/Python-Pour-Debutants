{
  "nbformat": 4,
  "nbformat_minor": 0,
  "metadata": {
    "colab": {
      "provenance": []
    },
    "kernelspec": {
      "name": "python3",
      "display_name": "Python 3"
    },
    "language_info": {
      "name": "python"
    }
  },
  "cells": [
    {
      "cell_type": "markdown",
      "source": [
        "**Création de dictionnaires**"
      ],
      "metadata": {
        "id": "EHdkjZnU3zAL"
      }
    },
    {
      "cell_type": "code",
      "execution_count": null,
      "metadata": {
        "id": "ubgNEl5Y3vvA"
      },
      "outputs": [],
      "source": [
        "voitureElectrique = {\n",
        "  \"constructeur\":\"Pininfarina\",\n",
        "  \"modele\":\"Battista\",\n",
        "  \"vitesse\":350\n",
        "}"
      ]
    },
    {
      "cell_type": "code",
      "source": [
        "produit = {\n",
        "  \"fabricant\":\"Yema\",\n",
        "  \"modele\":\"Master Elements\",\n",
        "  \"exemplaires\":60\n",
        "}\n",
        "print(produit)\n",
        "print(type(produit))"
      ],
      "metadata": {
        "id": "35saccB930_K"
      },
      "execution_count": null,
      "outputs": []
    },
    {
      "cell_type": "markdown",
      "source": [
        "**Propriétés des dictionnaires**"
      ],
      "metadata": {
        "id": "JZR6iYXy33zK"
      }
    },
    {
      "cell_type": "code",
      "source": [
        "artiste = {\"prenom\":\"Fernando\", \"nom\":\"Botero\", \"age\":90}"
      ],
      "metadata": {
        "id": "aXy-HZwq34bi"
      },
      "execution_count": null,
      "outputs": []
    },
    {
      "cell_type": "markdown",
      "source": [
        "**Représentation graphique des dictionnaires en mémoire**"
      ],
      "metadata": {
        "id": "GV-LjOM136Ha"
      }
    },
    {
      "cell_type": "code",
      "source": [
        "jeuxVideo = {\"saga\":\"Zelda\", \"debout\":2023, \"prix\":49.99}"
      ],
      "metadata": {
        "id": "rtYRM4F238JR"
      },
      "execution_count": null,
      "outputs": []
    },
    {
      "cell_type": "markdown",
      "source": [
        "**Utiliser une liste**"
      ],
      "metadata": {
        "id": "pFcRKr6w3_wy"
      }
    },
    {
      "cell_type": "code",
      "source": [
        "notes = [4.5, 3.0, 5.0]\n",
        "jours = [\"Lundi\", \"Mardi\", \"Mercredi\"]\n",
        "ages = [40, 12, 29, 55]"
      ],
      "metadata": {
        "id": "rb475gWH4A4S"
      },
      "execution_count": null,
      "outputs": []
    },
    {
      "cell_type": "markdown",
      "source": [
        "**Utiliser une dictionnaire**"
      ],
      "metadata": {
        "id": "AiZ4yJuZ4CJK"
      }
    },
    {
      "cell_type": "code",
      "source": [
        "ordinateur = {\"marque\":\"Dell\", \"processeur\":\"Intel\", \"bits\":64, \"core\":8}\n",
        "personnage = {\"role\":\"magicien\", \"attaque\":20.5, \"force\":7.1, \"vitesse\":4}\n",
        "pays = {\"nom\":\"Colombia\", \"capital\":\"Bogotá\", \"population\":7200000}"
      ],
      "metadata": {
        "id": "YVxLkvyU4D5q"
      },
      "execution_count": null,
      "outputs": []
    },
    {
      "cell_type": "markdown",
      "source": [
        "**Accès aux valeurs d'un dictionnaire**"
      ],
      "metadata": {
        "id": "DSmDC3mk4Gtd"
      }
    },
    {
      "cell_type": "code",
      "source": [
        "voiture = {\n",
        "  \"modele\":\"Bugatti Mistral\",\n",
        "  \"couleur\":\"Argenté\"\n",
        "}\n",
        "\n",
        "print(len(voiture))\n",
        "print(voiture[\"modele\"])\n",
        "print(voiture[\"couleur\"])"
      ],
      "metadata": {
        "id": "-E5OkgVV4HVa"
      },
      "execution_count": null,
      "outputs": []
    },
    {
      "cell_type": "markdown",
      "source": [
        "**Modifier les valeurs des dictionnaires**"
      ],
      "metadata": {
        "id": "3HE1KXl14Jsy"
      }
    },
    {
      "cell_type": "code",
      "source": [
        "voiture = {\n",
        "  \"modele\":\"Bugatti Mistral\",\n",
        "  \"couleur\":\"Argenté\"\n",
        "}\n",
        "\n",
        "print(len(voiture))\n",
        "voiture[\"couleur\"] = \"Doré\"\n",
        "print(voiture[\"couleur\"])"
      ],
      "metadata": {
        "id": "eaoqsCn44KSa"
      },
      "execution_count": null,
      "outputs": []
    },
    {
      "cell_type": "markdown",
      "source": [
        "**Ajouter des valeurs à un dictionnaire**"
      ],
      "metadata": {
        "id": "wBucFTpd4NiC"
      }
    },
    {
      "cell_type": "code",
      "source": [
        "voiture = {\n",
        "  \"modele\":\"Bugatti Mistral\",\n",
        "  \"couleur\":\"Argenté\"\n",
        "}\n",
        "\n",
        "voiture[\"Carburant\"] = \"Essence\"\n",
        "voiture[\"Cylindrée\"] = \"8.0 L\"\n",
        "print(voiture[\"Carburant\"])\n",
        "print(voiture)"
      ],
      "metadata": {
        "id": "9Wqc71x54ODx"
      },
      "execution_count": null,
      "outputs": []
    },
    {
      "cell_type": "markdown",
      "source": [
        "**Supprimer des valeurs d'un dictionnaire**"
      ],
      "metadata": {
        "id": "YIgd8x7H4Qwr"
      }
    },
    {
      "cell_type": "code",
      "source": [
        "voiture = {\n",
        "  \"modele\":\"Bugatti Mistral\",\n",
        "  \"couleur\":\"Argenté\",\n",
        "  \"boiteDeVitesse\":\"Automatique\"\n",
        "}\n",
        "\n",
        "print(voiture)\n",
        "voiture.pop(\"boiteDeVitesse\") \n",
        "print(voiture)"
      ],
      "metadata": {
        "id": "fm0NaG4a4Rfj"
      },
      "execution_count": null,
      "outputs": []
    },
    {
      "cell_type": "markdown",
      "source": [
        "**Les listes contenant des dictionnaires**"
      ],
      "metadata": {
        "id": "F8Qk3Sog4U2R"
      }
    },
    {
      "cell_type": "code",
      "source": [
        "lunette1 = {\"modele\":\"Clic Gold\", \"prix\":62000}\n",
        "lunette2 = {\"modele\":\"Panthère\", \"prix\":132000}\n",
        "\n",
        "listProduit = []\n",
        "listProduit.append(lunette1)\n",
        "listProduit.append(lunette2)\n",
        "\n",
        "print(listProduit)\n",
        "print(listProduit[0])\n",
        "print(listProduit[0][\"modele\"])"
      ],
      "metadata": {
        "id": "p4Qad5Hg4VWa"
      },
      "execution_count": null,
      "outputs": []
    },
    {
      "cell_type": "markdown",
      "source": [
        "**Les boucles avec des listes contenant des dictionnaires**"
      ],
      "metadata": {
        "id": "7Fi4x2py4YqJ"
      }
    },
    {
      "cell_type": "code",
      "source": [
        "lunette1 = {\"modele\":\"Clic Gold\", \"prix\":62000}\n",
        "lunette2 = {\"modele\":\"Panthère\", \"prix\":132000}\n",
        "\n",
        "listProduit = [lunette1, lunette2]\n",
        "\n",
        "i = 0\n",
        "while(i < len(listProduit)):\n",
        "  print(\"Lunette modèle : \"+ listProduit[i][\"modele\"])\n",
        "  print(\"Lunette prix : \"+str(listProduit[i][\"prix\"]))\n",
        "  i = i+1"
      ],
      "metadata": {
        "id": "IGUyI7fP4ZQ9"
      },
      "execution_count": null,
      "outputs": []
    },
    {
      "cell_type": "markdown",
      "source": [
        "**Exercice E12.1.**"
      ],
      "metadata": {
        "id": "KM9MzAiL4b-C"
      }
    },
    {
      "cell_type": "code",
      "source": [
        "personnage = {\"role\":\"magicien\", \"attaque\":20, \"santé\":100}\n",
        "print(personnage[\"role\"])\n",
        "print(type(personnage[\"attaque\"]))"
      ],
      "metadata": {
        "id": "BxS-_brI4dOa"
      },
      "execution_count": null,
      "outputs": []
    }
  ]
}