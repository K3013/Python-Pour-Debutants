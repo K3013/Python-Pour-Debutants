{
  "nbformat": 4,
  "nbformat_minor": 0,
  "metadata": {
    "colab": {
      "provenance": []
    },
    "kernelspec": {
      "name": "python3",
      "display_name": "Python 3"
    },
    "language_info": {
      "name": "python"
    }
  },
  "cells": [
    {
      "cell_type": "markdown",
      "source": [
        "**epargnes.txt**"
      ],
      "metadata": {
        "id": "qaZKJWU0d3fp"
      }
    },
    {
      "cell_type": "code",
      "execution_count": null,
      "metadata": {
        "id": "6l2_QFHrdu4j"
      },
      "outputs": [],
      "source": [
        "150,30,1200"
      ]
    },
    {
      "cell_type": "markdown",
      "source": [
        "**L'ouverture d'un fichier**"
      ],
      "metadata": {
        "id": "vFZvJzfgd7rA"
      }
    },
    {
      "cell_type": "code",
      "source": [
        "fichierEpargnes = open(\"epargnes.txt\")"
      ],
      "metadata": {
        "id": "SSnER9Eid9bI"
      },
      "execution_count": null,
      "outputs": []
    },
    {
      "cell_type": "markdown",
      "source": [
        "**Lecture des informations contenues dans les fichiers**"
      ],
      "metadata": {
        "id": "ffB7oohaeAbH"
      }
    },
    {
      "cell_type": "code",
      "source": [
        "fichierEpargnes = open(\"epargnes.txt\")\n",
        "contenuDonnees = fichierEpargnes.read()\n",
        "\n",
        "print(contenuDonnees)"
      ],
      "metadata": {
        "id": "cGeKYRxseBD_"
      },
      "execution_count": null,
      "outputs": []
    },
    {
      "cell_type": "markdown",
      "source": [
        "**Séparer les informations par des virgules**"
      ],
      "metadata": {
        "id": "lpLtvXzPeCwH"
      }
    },
    {
      "cell_type": "code",
      "source": [
        "fichierEpargnes = open(\"epargnes.txt\")\n",
        "contenuDonnees = fichierEpargnes.read()\n",
        "epargnes = contenuDonnees.split(\",\")\n",
        "\n",
        "print(epargnes)\n",
        "print(len(epargnes))\n",
        "print(epargnes[0])"
      ],
      "metadata": {
        "id": "4JfLBRDAeE4m"
      },
      "execution_count": null,
      "outputs": []
    },
    {
      "cell_type": "markdown",
      "source": [
        "**mesClients.txt**"
      ],
      "metadata": {
        "id": "TGlE4KdyeJUv"
      }
    },
    {
      "cell_type": "code",
      "source": [
        "Kylian,Mbappé,1998\n",
        "Víctor,Wembanyama,2004\n",
        "Marie,Martinod,1984"
      ],
      "metadata": {
        "id": "gzjexrxxeKQ3"
      },
      "execution_count": null,
      "outputs": []
    },
    {
      "cell_type": "markdown",
      "source": [
        "**Lecture ligne par ligne**"
      ],
      "metadata": {
        "id": "OsLmB7BaeLtw"
      }
    },
    {
      "cell_type": "code",
      "source": [
        "monFicher = open(\"mesClients.txt\")\n",
        "contenuDonnees = monFicher.readlines()\n",
        "\n",
        "for ligne in contenuDonnees:\n",
        "  ligne = ligne.strip()\n",
        "  clientDonnees = ligne.split(\",\")\n",
        "  print(\"Prénom: \"+clientDonnees[0])\n",
        "  print(\"Nom: \"+clientDonnees[1])\n",
        "  print(\"Année de naissance: \"+clientDonnees[2])"
      ],
      "metadata": {
        "id": "0OpUfDrmeN0g"
      },
      "execution_count": null,
      "outputs": []
    },
    {
      "cell_type": "markdown",
      "source": [
        "**L'écriture d'informations dans des fichiers**"
      ],
      "metadata": {
        "id": "Fngy04A4eSDI"
      }
    },
    {
      "cell_type": "code",
      "source": [
        "fichierEpargnes = open(\"epargnes.txt\")\n",
        "contenuDonnees = fichierEpargnes.read()\n",
        "\n",
        "monFicherEcriture = open(\"epargnes.txt\", \"w\")\n",
        "nouvelleEpargne = input(\"Saisissez vos épargnes pour la semaine : \")\n",
        "nouveauContenuDonnees = contenuDonnees + \",\" + nouvelleEpargne\n",
        "\n",
        "monFicherEcriture.write(nouveauContenuDonnees)\n",
        "monFicherEcriture.close()"
      ],
      "metadata": {
        "id": "R-uGrBQTeSmQ"
      },
      "execution_count": null,
      "outputs": []
    },
    {
      "cell_type": "markdown",
      "source": [
        "**Lecture des données de l'ensemble de données**"
      ],
      "metadata": {
        "id": "EJLnro5leYkQ"
      }
    },
    {
      "cell_type": "code",
      "source": [
        "fichier = open(\"chansons.csv\")\n",
        "contenu = fichier.readlines()\n",
        "\n",
        "i = 1\n",
        "while(i < len(contenu)):\n",
        "  ligne = contenu[i].strip()\n",
        "  donneesChansons = ligne.split(\",\")\n",
        "  print(donneesChansons[1])\n",
        "  i = i+1"
      ],
      "metadata": {
        "id": "UBdhDd_ueZWX"
      },
      "execution_count": null,
      "outputs": []
    }
  ]
}