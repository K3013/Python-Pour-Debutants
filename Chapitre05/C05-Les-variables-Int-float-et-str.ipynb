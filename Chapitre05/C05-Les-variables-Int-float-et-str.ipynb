{
  "nbformat": 4,
  "nbformat_minor": 0,
  "metadata": {
    "colab": {
      "provenance": []
    },
    "kernelspec": {
      "name": "python3",
      "display_name": "Python 3"
    },
    "language_info": {
      "name": "python"
    }
  },
  "cells": [
    {
      "cell_type": "markdown",
      "source": [
        "**Définir une variable**"
      ],
      "metadata": {
        "id": "Es_7xcVTopTA"
      }
    },
    {
      "cell_type": "code",
      "execution_count": null,
      "metadata": {
        "id": "vAQs1Iawobos"
      },
      "outputs": [],
      "source": [
        "age = 21"
      ]
    },
    {
      "cell_type": "markdown",
      "source": [
        "**Les types de variables**"
      ],
      "metadata": {
        "id": "i-MHxemFow23"
      }
    },
    {
      "cell_type": "code",
      "source": [
        "nom = \"Marie\"\n",
        "age = 21\n",
        "taille = 163.9"
      ],
      "metadata": {
        "id": "hDXRSLe0oywI"
      },
      "execution_count": null,
      "outputs": []
    },
    {
      "cell_type": "markdown",
      "source": [
        "**L’impression des variables**"
      ],
      "metadata": {
        "id": "EuqqPPhio0hQ"
      }
    },
    {
      "cell_type": "code",
      "source": [
        "nom = \"Marie\"\n",
        "age = 21\n",
        "taille = 163.9\n",
        "\n",
        "print(nom)\n",
        "print(age)\n",
        "print(taille)"
      ],
      "metadata": {
        "id": "ojtGMIFCo2Ph"
      },
      "execution_count": null,
      "outputs": []
    },
    {
      "cell_type": "markdown",
      "source": [
        "**Erreur lors de l'utilisation d'une variable non définie**"
      ],
      "metadata": {
        "id": "pwHEMSC1o35R"
      }
    },
    {
      "cell_type": "code",
      "source": [
        "age = 21\n",
        "print(agee)"
      ],
      "metadata": {
        "id": "Wq0SuOwxp6NH"
      },
      "execution_count": null,
      "outputs": []
    },
    {
      "cell_type": "markdown",
      "source": [
        "**Modifier la valeur d'une variable**"
      ],
      "metadata": {
        "id": "IRHwXuXjqEP3"
      }
    },
    {
      "cell_type": "code",
      "source": [
        "prixProduit = 150\n",
        "print(prixProduit)\n",
        "prixProduit = 250\n",
        "print(prixProduit)"
      ],
      "metadata": {
        "id": "RfktSvkyqE_2"
      },
      "execution_count": null,
      "outputs": []
    },
    {
      "cell_type": "markdown",
      "source": [
        "**Modifier la valeur et le type d'une variable**"
      ],
      "metadata": {
        "id": "8u4Le2x_qH1e"
      }
    },
    {
      "cell_type": "code",
      "source": [
        "prixProduit = 150\n",
        "print(prixProduit)\n",
        "prixProduit = 250.5\n",
        "print(prixProduit)"
      ],
      "metadata": {
        "id": "0tuW7fhzqIfI"
      },
      "execution_count": null,
      "outputs": []
    },
    {
      "cell_type": "markdown",
      "source": [
        "**Réutiliser des variables pour en définir de nouvelles**"
      ],
      "metadata": {
        "id": "GGBSXdp3qL4Y"
      }
    },
    {
      "cell_type": "code",
      "source": [
        "ageAmelie = 10\n",
        "ageJulien = 20\n",
        "somme = ageAmelie + ageJulien\n",
        "moyenne = somme / 2\n",
        "print(moyenne)"
      ],
      "metadata": {
        "id": "l7AWpPRyqMmK"
      },
      "execution_count": null,
      "outputs": []
    },
    {
      "cell_type": "markdown",
      "source": [
        "**La fonction type**"
      ],
      "metadata": {
        "id": "RiR98c12qOG4"
      }
    },
    {
      "cell_type": "code",
      "source": [
        "prixProduit = 150\n",
        "print(type(prixProduit))\n",
        "prixProduit = 250.5\n",
        "print(type(prixProduit))"
      ],
      "metadata": {
        "id": "czPtHx0pqQ_X"
      },
      "execution_count": null,
      "outputs": []
    },
    {
      "cell_type": "markdown",
      "source": [
        "**Des commentaires en Python**"
      ],
      "metadata": {
        "id": "C0WJ4Fb0qTdg"
      }
    },
    {
      "cell_type": "code",
      "source": [
        "# La ligne suivante représente le salaire mensuel d'une personne\n",
        "salaire = 5000\n",
        "\n",
        "\"\"\" Nous diviserons le salaire par 2 pour le répartir entre les membres de la famille\n",
        "et imprimer le résultat à l'écran \"\"\"\n",
        "print(salaire / 2)"
      ],
      "metadata": {
        "id": "BgiGDZk3qUDn"
      },
      "execution_count": null,
      "outputs": []
    },
    {
      "cell_type": "markdown",
      "source": [
        "**Exercice E5.1.**"
      ],
      "metadata": {
        "id": "scSb819KqZ5I"
      }
    },
    {
      "cell_type": "code",
      "source": [
        "totalAPayer = 1450.7\n",
        "nomDuProduit = \"iPhone 14\"\n",
        "satellites = 7\n",
        "moteurs = \"4\""
      ],
      "metadata": {
        "id": "6_LKmcyLqcgG"
      },
      "execution_count": null,
      "outputs": []
    },
    {
      "cell_type": "markdown",
      "source": [
        "**Exercice E5.3.**"
      ],
      "metadata": {
        "id": "rsoBx5kAqcx3"
      }
    },
    {
      "cell_type": "code",
      "source": [
        "age Du Chat = 7\n",
        "mon_email = \"test@gmail.com\"\n",
        "emailDuplique = mon_email"
      ],
      "metadata": {
        "id": "tZe4BFw4qhCf"
      },
      "execution_count": null,
      "outputs": []
    }
  ]
}