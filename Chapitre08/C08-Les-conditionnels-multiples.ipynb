{
  "nbformat": 4,
  "nbformat_minor": 0,
  "metadata": {
    "colab": {
      "provenance": []
    },
    "kernelspec": {
      "name": "python3",
      "display_name": "Python 3"
    },
    "language_info": {
      "name": "python"
    }
  },
  "cells": [
    {
      "cell_type": "markdown",
      "source": [
        "**Exemple de code pour la structure if-then-else**"
      ],
      "metadata": {
        "id": "FKo3lvSotLIM"
      }
    },
    {
      "cell_type": "code",
      "execution_count": null,
      "metadata": {
        "id": "FuoKY5bUtKB5"
      },
      "outputs": [],
      "source": [
        "temperature = float(input(\"Saisissez la temperature : \"))\n",
        "\n",
        "if(temperature > 27):\n",
        "  print(\"Acheter une glace\")\n",
        "else:\n",
        "  print(\"Acheter un macaron\")\n",
        "\n",
        "print(\"Fin de l'exécution\")"
      ]
    },
    {
      "cell_type": "markdown",
      "source": [
        "**Exercice : Surface d'un carré**"
      ],
      "metadata": {
        "id": "Uw4k4DpitQ-8"
      }
    },
    {
      "cell_type": "code",
      "source": [
        "cote = float(input(\"Saisissez la longueur du côté du carré : \"))\n",
        "\n",
        "if(cote > 0):\n",
        "  aire = cote*cote\n",
        "  print(\"La surface du carré est : \"+str(aire))\n",
        "else:\n",
        "  print(\"Le côté du carré doit être supérieur à zéro\")"
      ],
      "metadata": {
        "id": "NJp3heiotRh0"
      },
      "execution_count": null,
      "outputs": []
    },
    {
      "cell_type": "markdown",
      "source": [
        "**Exemple de code pour la structure if-then-elif-else**"
      ],
      "metadata": {
        "id": "lHMJMdX5tVsK"
      }
    },
    {
      "cell_type": "code",
      "source": [
        "temperature = float(input(\"Saisissez la temperature : \"))\n",
        "\n",
        "if(temperature > 27):\n",
        "  print(\"Acheter une glace\")\n",
        "elif(temperature < 15):\n",
        "  print(\"Acheter un pain au chocolat\")\n",
        "else:\n",
        "  print(\"Acheter un macaron\")\n",
        "\n",
        "print(\"Fin de l'exécution\")"
      ],
      "metadata": {
        "id": "L7eQFb_BtWT8"
      },
      "execution_count": null,
      "outputs": []
    },
    {
      "cell_type": "markdown",
      "source": [
        "**L'importance de l'ordonnancement des conditions**"
      ],
      "metadata": {
        "id": "SkaXWSmQtY_2"
      }
    },
    {
      "cell_type": "code",
      "source": [
        "age = input(\"Saisissez votre age : \")\n",
        "\n",
        "if(age >= 18):\n",
        "  print(\"Adulte\")\n",
        "elif(age >= 65):\n",
        "  print(\"Personne âgée\")"
      ],
      "metadata": {
        "id": "PxeDh3QGtZkM"
      },
      "execution_count": null,
      "outputs": []
    },
    {
      "cell_type": "markdown",
      "source": [
        "**Exemple de code pour l'exercice « parc à thème »**"
      ],
      "metadata": {
        "id": "vqFzzR_ztdJm"
      }
    },
    {
      "cell_type": "code",
      "source": [
        "typeDA = int(input(\"Saisissez l'attraction : 1) le montagne russe 2) le carrousel : \"))\n",
        "\n",
        "if(typeDA == 1):\n",
        "  taille = float(input(\"Saisissez votre taille : \"))\n",
        "  if(taille >= 121.92): \n",
        "    print(\"Amusez les montagnes russes\")\n",
        "  else:\n",
        "    print(\"Taille non autorisée\")\n",
        "elif(typeDA == 2):\n",
        "  print(\"Bon voyage dans les carrousels\")\n",
        "\n",
        "print(\"Fin de l'exécution\")"
      ],
      "metadata": {
        "id": "2Qf_76mete6N"
      },
      "execution_count": null,
      "outputs": []
    },
    {
      "cell_type": "code",
      "source": [
        "typeDA = int(input(\"Saisissez l'attraction : 1) le montagne russe 2) le carrousel : \"))\n",
        "taille = float(input(\"Saisissez votre taille : \"))\n",
        "\n",
        "if(typeDA == 2):\n",
        "  print(\"Bon voyage dans les carrousels \")\n",
        "elif(typeDA == 1 and taille >= 121.92):\n",
        "  print(\"Amusez les montagnes russes\")\n",
        "elif(typeDA == 1 and taille < 121.92):\n",
        "  print(\"Taille non autorisée\")\n",
        "\n",
        "print(\"Fin de l'exécution\")"
      ],
      "metadata": {
        "id": "rVlLOTIetiME"
      },
      "execution_count": null,
      "outputs": []
    },
    {
      "cell_type": "markdown",
      "source": [
        "**Exercice E8.1.**"
      ],
      "metadata": {
        "id": "mDfsPBQQtngk"
      }
    },
    {
      "cell_type": "code",
      "source": [
        "etoiles = 2\n",
        "if(etoiles > 3):\n",
        "  print(\"À recommander\")\n",
        "else:\n",
        "  print(\"Ne recommanderait pas\")\n",
        "print(\"Fin de l'exécution\")"
      ],
      "metadata": {
        "id": "qnlULNg4tp2L"
      },
      "execution_count": null,
      "outputs": []
    },
    {
      "cell_type": "markdown",
      "source": [
        "**Exercice E8.3.**"
      ],
      "metadata": {
        "id": "1Dr3hALotp7V"
      }
    },
    {
      "cell_type": "code",
      "source": [
        "quantiteDePeintureDeversee = 20\n",
        "if(quantiteDePeintureDeversee >= 15):\n",
        "  print(\"Ah non, c'est pas possible. C'est quoi ça?\")\n",
        "elif(quantiteDePeintureDeversee > 0):\n",
        "  print(\"Vous pouvez mieux faire\")\n",
        "else:\n",
        "  print(\"Vous avez la classe !\")\n",
        "print(\"Fin de l'exécution\")"
      ],
      "metadata": {
        "id": "w563s055ttms"
      },
      "execution_count": null,
      "outputs": []
    }
  ]
}