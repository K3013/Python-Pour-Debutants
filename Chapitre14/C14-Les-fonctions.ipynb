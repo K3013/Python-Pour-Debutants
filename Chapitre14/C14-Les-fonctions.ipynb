{
  "nbformat": 4,
  "nbformat_minor": 0,
  "metadata": {
    "colab": {
      "provenance": []
    },
    "kernelspec": {
      "name": "python3",
      "display_name": "Python 3"
    },
    "language_info": {
      "name": "python"
    }
  },
  "cells": [
    {
      "cell_type": "markdown",
      "source": [
        "**Les valeurs**"
      ],
      "metadata": {
        "id": "ut5SllyNIjxd"
      }
    },
    {
      "cell_type": "code",
      "execution_count": null,
      "metadata": {
        "id": "fKIlukVyIdd5"
      },
      "outputs": [],
      "source": [
        "prix1 = 100\n",
        "prix2 = prix1\n",
        "print(prix1)\n",
        "prix2 = 200\n",
        "print(prix1)"
      ]
    },
    {
      "cell_type": "markdown",
      "source": [
        "**Les références**"
      ],
      "metadata": {
        "id": "wBVgh9OvImdr"
      }
    },
    {
      "cell_type": "code",
      "source": [
        "motos1 = [\"Ducati\"]\n",
        "motos2 = motos1\n",
        "print(motos1[0])\n",
        "motos2[0] = \"Guzzi\"\n",
        "print(motos1[0])"
      ],
      "metadata": {
        "id": "O9pxMiclIn6b"
      },
      "execution_count": null,
      "outputs": []
    },
    {
      "cell_type": "markdown",
      "source": [
        "**Création de notre première fonction**"
      ],
      "metadata": {
        "id": "DIf0oMj-Ishz"
      }
    },
    {
      "cell_type": "code",
      "source": [
        "def accueil():\n",
        "  print(\"Bienvenue !\")\n",
        "  print(\"Voilà la création de ma première fonction\")\n",
        "\n",
        "accueil()\n",
        "print(\"Fin de l'exécution\")"
      ],
      "metadata": {
        "id": "9QJfkmpXIqN7"
      },
      "execution_count": null,
      "outputs": []
    },
    {
      "cell_type": "markdown",
      "source": [
        "**Exercice**"
      ],
      "metadata": {
        "id": "UHhJ9mArIvVD"
      }
    },
    {
      "cell_type": "code",
      "source": [
        "def accueil():\n",
        "  print(\"Bienvenue !\")\n",
        "  print(\"Voilà la création de ma première fonction\")\n",
        "\n",
        "accueil()\n",
        "accueil()"
      ],
      "metadata": {
        "id": "6yS4w11eIzBL"
      },
      "execution_count": null,
      "outputs": []
    },
    {
      "cell_type": "markdown",
      "source": [
        "**Les fonctions avec paramètres**"
      ],
      "metadata": {
        "id": "vSTBQFv_I3es"
      }
    },
    {
      "cell_type": "code",
      "source": [
        "def accueilPresonnalise(prenom, nom):\n",
        "  print(\"Bienvenue \"+prenom+\" \"+nom)\n",
        "\n",
        "accueilPresonnalise(\"Paola\", \"Vallejo\")\n",
        "accueilPresonnalise(\"Juliana\", \"Correa\")"
      ],
      "metadata": {
        "id": "gH1RVQ1-I2PL"
      },
      "execution_count": null,
      "outputs": []
    },
    {
      "cell_type": "markdown",
      "source": [
        "**Erreur dans l'appel de fonction**"
      ],
      "metadata": {
        "id": "9rJ24afOI8QT"
      }
    },
    {
      "cell_type": "code",
      "source": [
        "def somme(nombre1, nombre2):\n",
        "  resultat = nombre1+nombre2\n",
        "  print(resultat)\n",
        "\n",
        "somme()"
      ],
      "metadata": {
        "id": "-D_EidK9I9Tj"
      },
      "execution_count": null,
      "outputs": []
    },
    {
      "cell_type": "markdown",
      "source": [
        "**Les variables avec portée locale**"
      ],
      "metadata": {
        "id": "O5exG9AHI_fT"
      }
    },
    {
      "cell_type": "code",
      "source": [
        "def somme(nombre1, nombre2):\n",
        "  resultat = nombre1+nombre2\n",
        "  print(resultat)\n",
        "\n",
        "somme(4,6)\n",
        "print(resultat)"
      ],
      "metadata": {
        "id": "gmle7qiJJAlj"
      },
      "execution_count": null,
      "outputs": []
    },
    {
      "cell_type": "markdown",
      "source": [
        "**Les variables avec portée global**"
      ],
      "metadata": {
        "id": "L3j20MpwJBvc"
      }
    },
    {
      "cell_type": "code",
      "source": [
        "def calculatricePrixAvecImpot(prix):\n",
        "  prixTotal = prix+impot\n",
        "  print(prixTotal)\n",
        "\n",
        "impot = 10\n",
        "calculatricePrixAvecImpot(100)"
      ],
      "metadata": {
        "id": "1Hr-X2nUJDPz"
      },
      "execution_count": null,
      "outputs": []
    },
    {
      "cell_type": "markdown",
      "source": [
        "**Les fonctions avec déclarations de retour**"
      ],
      "metadata": {
        "id": "bJjLERRWJHLk"
      }
    },
    {
      "cell_type": "code",
      "source": [
        "def calculatriceDeAmende(joursDeRetard):\n",
        "  if(joursDeRetard > 7):\n",
        "    return joursDeRetard*2\n",
        "  else:\n",
        "    return 3\n",
        "\n",
        "joursDeRetard = int(input((\"Saisissez le nombre de jour de retard : \"))\n",
        "amende = calculatriceDeAmende(joursDeRetard)\n",
        "print(\"Vous devez payer une amende de \"+str(amende)+\" Euros\")"
      ],
      "metadata": {
        "id": "WdttadBsJHyz"
      },
      "execution_count": null,
      "outputs": []
    },
    {
      "cell_type": "markdown",
      "source": [
        "**Une calculatrice**"
      ],
      "metadata": {
        "id": "q7swTngKJKEM"
      }
    },
    {
      "cell_type": "code",
      "source": [
        "def somme():\n",
        "  nombre1 = float(input(\"Saisissez le première nombre : \"))\n",
        "  nombre2 = float(input(\"Saisissez le second nombre : \"))\n",
        "  resultat = nombre1 + nombre2\n",
        "  print(\"Le résultat est : \"+str(resultat))\n",
        "\n",
        "while(True):\n",
        "  print(\"----Saisissez la opération ----\")\n",
        "  print(\"1) Sommer \")\n",
        "  print(\"0) Sortir\")\n",
        "  operation = int(input())\n",
        "  if(operation == 1):\n",
        "    somme()\n",
        "  elif(operation == 0):\n",
        "    print(\"À bientot =)\")\n",
        "    break"
      ],
      "metadata": {
        "id": "7kpU1ez_JMxf"
      },
      "execution_count": null,
      "outputs": []
    },
    {
      "cell_type": "markdown",
      "source": [
        "**En ajoutant une opération de soustraction**"
      ],
      "metadata": {
        "id": "UEFqaoRwJNoD"
      }
    },
    {
      "cell_type": "code",
      "source": [
        "def somme():\n",
        "  nombre1 = float(input(\"Saisissez le première nombre : \"))\n",
        "  nombre2 = float(input(\"Saisissez le second nombre : \"))\n",
        "  resultat = nombre1 + nombre2\n",
        "  print(\"Le résultat est : \"+str(resultat))\n",
        "\n",
        "def soustraire():\n",
        "  nombre1 = float(input(\"Saisissez le première nombre : \"))\n",
        "  nombre2 = float(input(\"Saisissez le second nombre : \"))\n",
        "  resultat = nombre1 - nombre2\n",
        "  print(\"Le résultat est : \"+str(resultat))\n",
        "\n",
        "while(True):\n",
        "  print(\"----Saisissez la opération ----\")\n",
        "  print(\"1) Sommer\")\n",
        "  print(\"2) Soustraire\")\n",
        "  print(\"0) Sortir\")\n",
        "  operation = int(input())\n",
        "  if(operation == 1):\n",
        "    somme()\n",
        "  elif(operation == 2):\n",
        "    soustraire()\n",
        "  elif(operation == 0):\n",
        "    print(\"À bientot =)\")\n",
        "    break"
      ],
      "metadata": {
        "id": "jkIl8JUwJPHr"
      },
      "execution_count": null,
      "outputs": []
    },
    {
      "cell_type": "markdown",
      "source": [
        "**Exercice E14.1.**"
      ],
      "metadata": {
        "id": "GGXvzbCjJRYL"
      }
    },
    {
      "cell_type": "code",
      "source": [
        "def evenementInsolite(mot):\n",
        "  print(\"J'ai vu un \"+mot+\" hier soir.\")\n",
        "\n",
        "evenementInsolite(\"OVNI\")"
      ],
      "metadata": {
        "id": "t_Kr7u4lJVdl"
      },
      "execution_count": null,
      "outputs": []
    },
    {
      "cell_type": "markdown",
      "source": [
        "**Exercice E14.3.**"
      ],
      "metadata": {
        "id": "pZW5TgXEJVjc"
      }
    },
    {
      "cell_type": "code",
      "source": [
        "def lottie(nombre):\n",
        "  if(nombre == 88):\n",
        "    print(\"Vous avez gagné !\")\n",
        "\n",
        "lottie(67)\n",
        "lottie(88)"
      ],
      "metadata": {
        "id": "Xn5vPxMMJYO2"
      },
      "execution_count": null,
      "outputs": []
    },
    {
      "cell_type": "markdown",
      "source": [
        "**Exercice E14.4.**"
      ],
      "metadata": {
        "id": "JzHXOmjlJZ-7"
      }
    },
    {
      "cell_type": "code",
      "source": [
        "def imprimePremierNom(noms):\n",
        "\n",
        "\n",
        "noms = [\"Zeus\", \"Poséidon\", \"Arès\"]\n",
        "imprimePremierNom(noms)"
      ],
      "metadata": {
        "id": "l-A0nvf4Jast"
      },
      "execution_count": null,
      "outputs": []
    }
  ]
}