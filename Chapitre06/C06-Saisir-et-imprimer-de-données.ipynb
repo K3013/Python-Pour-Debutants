{
  "nbformat": 4,
  "nbformat_minor": 0,
  "metadata": {
    "colab": {
      "provenance": []
    },
    "kernelspec": {
      "name": "python3",
      "display_name": "Python 3"
    },
    "language_info": {
      "name": "python"
    }
  },
  "cells": [
    {
      "cell_type": "markdown",
      "source": [
        "**La fonction input**"
      ],
      "metadata": {
        "id": "2IO1sVSPrDKq"
      }
    },
    {
      "cell_type": "code",
      "execution_count": null,
      "metadata": {
        "id": "lLOcEmpPq44O"
      },
      "outputs": [],
      "source": [
        "print(\"Saisissez votre prenom : \")\n",
        "prenom = input()\n",
        "print(\"Votre prenom est : \")\n",
        "print(prenom)"
      ]
    },
    {
      "cell_type": "markdown",
      "source": [
        "**Fonction input – type de données par défaut (error)**"
      ],
      "metadata": {
        "id": "njTLbfRyrPpl"
      }
    },
    {
      "cell_type": "code",
      "source": [
        "age = input(\"Saisissez votre age : \")\n",
        "demiAge = age / 2\n",
        "print(demiAge)"
      ],
      "metadata": {
        "id": "kk-7eSN9rROA"
      },
      "execution_count": null,
      "outputs": []
    },
    {
      "cell_type": "markdown",
      "source": [
        "**Fonction int**"
      ],
      "metadata": {
        "id": "7eyajy4BrUAt"
      }
    },
    {
      "cell_type": "code",
      "source": [
        "age = int(input(\"Saisissez votre age : \"))\n",
        "demiAge = age / 2\n",
        "print(demiAge)"
      ],
      "metadata": {
        "id": "oxcqvrhUrVot"
      },
      "execution_count": null,
      "outputs": []
    },
    {
      "cell_type": "markdown",
      "source": [
        "**Les fonctions int et float**"
      ],
      "metadata": {
        "id": "YCMLN9SHrYyu"
      }
    },
    {
      "cell_type": "code",
      "source": [
        "ageDuPere = input(\"Saisissez l'age du père: \")\n",
        "ageDeLaMere = int(input(\"Saisissez l'age de la mère : \"))\n",
        "tailleDuPere = float(input(\"Saisissez la taille du père: \"))\n",
        "print(type(ageDuPere))\n",
        "print(type(ageDeLaMere))\n",
        "print(type(tailleDuPere))\n",
        "print(ageDuPere)\n",
        "print(ageDeLaMere)\n",
        "print(tailleDuPere)"
      ],
      "metadata": {
        "id": "1LtI3IjZrcDY"
      },
      "execution_count": null,
      "outputs": []
    },
    {
      "cell_type": "markdown",
      "source": [
        "**La fonction print**"
      ],
      "metadata": {
        "id": "7RMJ5KBdrftG"
      }
    },
    {
      "cell_type": "code",
      "source": [
        "prenom = \"Angelique\"\n",
        "age = 12\n",
        "print(\"Prenom : \")\n",
        "print(prenom)\n",
        "print(\"Age : \")\n",
        "print(age)"
      ],
      "metadata": {
        "id": "PZIloTugrgTW"
      },
      "execution_count": null,
      "outputs": []
    },
    {
      "cell_type": "markdown",
      "source": [
        "**La concaténation des données à l'écran (error)**"
      ],
      "metadata": {
        "id": "w-JLdwBmri85"
      }
    },
    {
      "cell_type": "code",
      "source": [
        "nomProduit = \"Baguette\"\n",
        "prixProduit = 30\n",
        "print(\"Nom : \"+nomProduit)\n",
        "print(\"Prix : \"+prixProduit)"
      ],
      "metadata": {
        "id": "GVcAG7vtrk1-"
      },
      "execution_count": null,
      "outputs": []
    },
    {
      "cell_type": "markdown",
      "source": [
        "**La concaténation des données à l'écran**"
      ],
      "metadata": {
        "id": "FF_2d9q_rnvW"
      }
    },
    {
      "cell_type": "code",
      "source": [
        "nomProduit = \"Baguette\"\n",
        "prixProduit = 30\n",
        "print(\"Nom : \"+nomProduit)\n",
        "print(\"Prix : \"+str(prixProduit))"
      ],
      "metadata": {
        "id": "eqFhEP-dro-v"
      },
      "execution_count": null,
      "outputs": []
    },
    {
      "cell_type": "markdown",
      "source": [
        "**Print en les séparant par des virgules**"
      ],
      "metadata": {
        "id": "OnuXYVLKrtLt"
      }
    },
    {
      "cell_type": "code",
      "source": [
        "nomProduit = \"Baguette\"\n",
        "prixProduit = 30\n",
        "print(\"Nom :\",nomProduit,\"- Prix :\", prixProduit)"
      ],
      "metadata": {
        "id": "29a_Vmg7rwit"
      },
      "execution_count": null,
      "outputs": []
    },
    {
      "cell_type": "markdown",
      "source": [
        "**Exercice E6.1.**"
      ],
      "metadata": {
        "id": "vraNQkrhrz-m"
      }
    },
    {
      "cell_type": "code",
      "source": [
        "ageJoanDArc = 19\n",
        "ageMarieCurie = input(\"Saisissez l'age : \")\n",
        "ageMarieCurieModifie = int(ageMarieCurie)"
      ],
      "metadata": {
        "id": "Wp0HJgXLr1xe"
      },
      "execution_count": null,
      "outputs": []
    }
  ]
}